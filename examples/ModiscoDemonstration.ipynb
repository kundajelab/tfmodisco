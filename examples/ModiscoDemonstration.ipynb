{
 "cells": [
  {
   "cell_type": "markdown",
   "metadata": {},
   "source": [
    "## Table of Contents\n",
    "- [Intro](#Intro)\n",
    "- [0.x Setup](#0.x-Setup)\n",
    "  - [0.1 Download tools](#0.1-Download-tools)\n",
    "  - [0.2 Download data](#0.2-Download-data)\n",
    "  - [0.3 Merge and index](#0.3-Merge-and-index)\n",
    "  - [0.4 Create experimental data](#0.4-Create-experimental-data)\n",
    "  - [0.5 Create control data](#0.5-Create-control-data)\n",
    "  - [0.6 Download peaks BED file](#0.6-Download-peaks-BED-file)\n",
    "- [1.x Run BPNet](#1.x-Run-BPNet)\n",
    "  - [1.0 Download bpnet-lite](#1.0-Download-bpnet-lite)\n",
    "  - [1.1 Download hg38](#1.1-Download-hg38)\n",
    "  - [1.2 Create bpnet-lite fit JSON file](#1.2-Create-bpnet-lite-fit-JSON-file)\n",
    "  - [1.3 Train BPNet](#1.3-Train-BPNet)\n",
    "  - [1.4 Create bpnet-lite interpret JSON file](#1.4-Create-bpnet-lite-interpret-JSON-file)\n",
    "  - [1.5 Retrieve one-hot encoding & corresponding attribution scores using DeepSHAP](#1.5-Retrieve-one-hot-encoding-&-corresponding-attribution-scores-using-DeepSHAP)\n",
    "- [2.x Motif discovery with tfmodisco-lite](#2.x-Motif-discovery-with-tfmodisco-lite)\n",
    "  - [2.1 Install tfmodisco-lite](#2.1-Install-tfmodisco-lite)\n",
    "  - [2.2 tfmodisco-lite on DeepSHAP output](#2.2-Running-tfmodisco-lite-on-DeepSHAP-output)\n",
    "- [3.x Displaying the motifs with tfmodisco-lite report](#3.x-Displaying-the-motifs-with-tfmodisco-lite-report)\n",
    "  - [3.1 Run modisco report](#3.1-Run-modisco-report)\n",
    "  - [3.2 Run modisco report with TOMTOM comparison](#3.2-Run-modisco-report-with-TOMTOM-comparison)"
   ]
  },
  {
   "cell_type": "markdown",
   "metadata": {
    "id": "Dk8B9aMktyn5"
   },
   "source": [
    "# Intro\n",
    "In this notebook we will demonstrate how to use TF-MoDISco to discover motifs from a neural network that predicts drivers of transcription factor binding \n",
    "(we'll use `bpnet-lite`). The rough order of execution will be as follows:\n",
    "0. Obtain tools and data to process (from the ENCODE project)\n",
    "1. Train `bpnet-lite` on ChIP-seq data for a particular transcription factor.\n",
    "2. Obtain the sequence one-hot encoding file & its corresponding attribution scores file (provided using `DeepSHAP`)\n",
    "3. Run `tfmodisco-lite` on the one-hot encoding file & its corresponding attribution scores file to receive the motifs, represented as contribution scores, as an `.h5` file. As a side note, it contains the aggregate sequence data, as well as (aggregated) hypothetical contribution score data."
   ]
  },
  {
   "cell_type": "markdown",
   "metadata": {
    "id": "3SsNKWClD2tq"
   },
   "source": [
    "# 0.x Setup\n",
    "\n",
    "First let's create a Conda environment to install packages to."
   ]
  },
  {
   "cell_type": "code",
   "execution_count": 2,
   "metadata": {
    "colab": {
     "base_uri": "https://localhost:8080/"
    },
    "id": "8ppTSms1waLo",
    "outputId": "e1f44bde-d18a-4b4b-95ea-c5187b8e934d"
   },
   "outputs": [
    {
     "name": "stdout",
     "output_type": "stream",
     "text": [
      "Collecting package metadata (current_repodata.json): ...working... done\n",
      "Solving environment: ...working... done\n"
     ]
    },
    {
     "name": "stderr",
     "output_type": "stream",
     "text": [
      "\n",
      "\n",
      "==> WARNING: A newer version of conda exists. <==\n",
      "  current version: 23.3.1\n",
      "  latest version: 23.5.0\n",
      "\n",
      "Please update conda by running\n",
      "\n",
      "    $ conda update -n base -c defaults conda\n",
      "\n",
      "Or to minimize the number of packages updated during conda update use\n",
      "\n",
      "     conda install conda=23.5.0\n",
      "\n",
      "\n"
     ]
    },
    {
     "name": "stdout",
     "output_type": "stream",
     "text": [
      "\n",
      "## Package Plan ##\n",
      "\n",
      "  environment location: /users/airanman/anaconda3/envs/tfmodisco_example\n",
      "\n",
      "  added / updated specs:\n",
      "    - python=3.9\n",
      "\n",
      "\n",
      "The following NEW packages will be INSTALLED:\n",
      "\n",
      "  _libgcc_mutex      conda-forge/linux-64::_libgcc_mutex-0.1-conda_forge \n",
      "  _openmp_mutex      conda-forge/linux-64::_openmp_mutex-4.5-2_gnu \n",
      "  bzip2              conda-forge/linux-64::bzip2-1.0.8-h7f98852_4 \n",
      "  ca-certificates    conda-forge/linux-64::ca-certificates-2023.5.7-hbcca054_0 \n",
      "  ld_impl_linux-64   conda-forge/linux-64::ld_impl_linux-64-2.40-h41732ed_0 \n",
      "  libffi             conda-forge/linux-64::libffi-3.4.2-h7f98852_5 \n",
      "  libgcc-ng          conda-forge/linux-64::libgcc-ng-12.2.0-h65d4601_19 \n",
      "  libgomp            conda-forge/linux-64::libgomp-12.2.0-h65d4601_19 \n",
      "  libnsl             conda-forge/linux-64::libnsl-2.0.0-h7f98852_0 \n",
      "  libsqlite          conda-forge/linux-64::libsqlite-3.42.0-h2797004_0 \n",
      "  libuuid            conda-forge/linux-64::libuuid-2.38.1-h0b41bf4_0 \n",
      "  libzlib            conda-forge/linux-64::libzlib-1.2.13-h166bdaf_4 \n",
      "  ncurses            conda-forge/linux-64::ncurses-6.3-h27087fc_1 \n",
      "  openssl            conda-forge/linux-64::openssl-3.1.0-hd590300_3 \n",
      "  pip                conda-forge/noarch::pip-23.1.2-pyhd8ed1ab_0 \n",
      "  python             conda-forge/linux-64::python-3.9.16-h2782a2a_0_cpython \n",
      "  readline           conda-forge/linux-64::readline-8.2-h8228510_1 \n",
      "  setuptools         conda-forge/noarch::setuptools-67.7.2-pyhd8ed1ab_0 \n",
      "  tk                 conda-forge/linux-64::tk-8.6.12-h27826a3_0 \n",
      "  tzdata             conda-forge/noarch::tzdata-2023c-h71feb2d_0 \n",
      "  wheel              conda-forge/noarch::wheel-0.40.0-pyhd8ed1ab_0 \n",
      "  xz                 conda-forge/linux-64::xz-5.2.6-h166bdaf_0 \n",
      "\n",
      "\n",
      "Proceed ([y]/n)? Invalid choice: conda activate tfmodisco_example\n",
      "Proceed ([y]/n)? \n",
      "\n",
      "Downloading and Extracting Packages\n",
      "\n",
      "Preparing transaction: ...working... done\n",
      "Verifying transaction: ...working... done\n",
      "Executing transaction: ...working... done\n",
      "#\n",
      "# To activate this environment, use\n",
      "#\n",
      "#     $ conda activate tfmodisco_example\n",
      "#\n",
      "# To deactivate an active environment, use\n",
      "#\n",
      "#     $ conda deactivate\n",
      "\n"
     ]
    }
   ],
   "source": [
    "%%bash\n",
    "conda create --name tfmodisco_example python='3.9.*'\n",
    "conda activate tfmodisco_example"
   ]
  },
  {
   "cell_type": "markdown",
   "metadata": {
    "id": "5qfwySakt825"
   },
   "source": [
    "## 0.1 Download tools"
   ]
  },
  {
   "cell_type": "code",
   "execution_count": 3,
   "metadata": {
    "colab": {
     "base_uri": "https://localhost:8080/"
    },
    "id": "FwJ-Jj7Fsqsu",
    "outputId": "36675763-6b0e-495a-c709-31a32ea79e28"
   },
   "outputs": [
    {
     "name": "stdout",
     "output_type": "stream",
     "text": [
      "Collecting package metadata (current_repodata.json): done\n",
      "Solving environment: done\n",
      "\n",
      "\n",
      "==> WARNING: A newer version of conda exists. <==\n",
      "  current version: 23.3.1\n",
      "  latest version: 23.5.0\n",
      "\n",
      "Please update conda by running\n",
      "\n",
      "    $ conda update -n base -c defaults conda\n",
      "\n",
      "Or to minimize the number of packages updated during conda update use\n",
      "\n",
      "     conda install conda=23.5.0\n",
      "\n",
      "\n",
      "\n",
      "# All requested packages already installed.\n",
      "\n"
     ]
    }
   ],
   "source": [
    "!conda install -y -c bioconda bamtools bedtools samtools"
   ]
  },
  {
   "cell_type": "code",
   "execution_count": 33,
   "metadata": {
    "colab": {
     "base_uri": "https://localhost:8080/"
    },
    "id": "dPJJqjIKtLq9",
    "outputId": "34e98421-1069-4f4f-8d92-7a1d9e550f5a"
   },
   "outputs": [],
   "source": [
    "%%sh\n",
    "wget --quiet http://hgdownload.soe.ucsc.edu/admin/exe/linux.x86_64/bedGraphToBigWig -O bedGraphToBigWig\n",
    "chmod a+x bedGraphToBigWig"
   ]
  },
  {
   "cell_type": "markdown",
   "metadata": {
    "id": "eWmme5Ihuj42"
   },
   "source": [
    "## 0.2 Download data"
   ]
  },
  {
   "cell_type": "code",
   "execution_count": 32,
   "metadata": {
    "colab": {
     "base_uri": "https://localhost:8080/"
    },
    "id": "Rlqi0WYYumkb",
    "outputId": "9afb890e-6120-498d-aae0-e8b63f838358"
   },
   "outputs": [],
   "source": [
    "%%sh\n",
    "mkdir -p ENCSR000EGM/data\n",
    "cd ENCSR000EGM/data\n",
    "wget --quiet https://www.encodeproject.org/files/ENCFF198CVB/@@download/ENCFF198CVB.bam -O rep1.bam\n",
    "wget --quiet https://www.encodeproject.org/files/ENCFF488CXC/@@download/ENCFF488CXC.bam -O rep2.bam\n",
    "wget --quiet https://www.encodeproject.org/files/ENCFF023NGN/@@download/ENCFF023NGN.bam -O control.bam\n",
    "wget --quiet https://www.encodeproject.org/files/GRCh38_EBV.chrom.sizes/@@download/GRCh38_EBV.chrom.sizes.tsv -O hg38.chrom.sizes"
   ]
  },
  {
   "cell_type": "markdown",
   "metadata": {
    "id": "zC9hWAIuwG7W"
   },
   "source": [
    "## 0.3 Merge and index"
   ]
  },
  {
   "cell_type": "code",
   "execution_count": 9,
   "metadata": {
    "id": "OUXxuW0mvNFI"
   },
   "outputs": [],
   "source": [
    "%%sh\n",
    "cd ENCSR000EGM/data\n",
    "samtools merge -f merged.bam rep1.bam rep2.bam\n",
    "samtools index merged.bam"
   ]
  },
  {
   "cell_type": "markdown",
   "metadata": {
    "id": "Vd8yLvVOxJqA"
   },
   "source": [
    "## 0.4 Create experimental data\n",
    "\n"
   ]
  },
  {
   "cell_type": "code",
   "execution_count": null,
   "metadata": {
    "colab": {
     "base_uri": "https://localhost:8080/"
    },
    "id": "0397T0DlxIlZ",
    "outputId": "bf260c81-8c2b-469f-9621-446f93db6e1f"
   },
   "outputs": [
    {
     "name": "stderr",
     "output_type": "stream",
     "text": [
      "\n",
      "*****\n",
      "*****WARNING: Genome (-g) files are ignored when BAM input is provided. \n",
      "*****\n",
      "\n",
      "*****\n",
      "*****WARNING: Genome (-g) files are ignored when BAM input is provided. \n",
      "*****\n"
     ]
    }
   ],
   "source": [
    "%%sh\n",
    "cd ENCSR000EGM/data\n",
    "# Get coverage of 5’ positions of the plus strand\n",
    "bedtools genomecov -5 -bg -strand + \\\n",
    "        -g hg38.chrom.sizes -ibam merged.bam \\\n",
    "        | sort -k1,1 -k2,2n > plus.bedGraph\n",
    "\n",
    "# Get coverage of 5’ positions of the minus strand\n",
    "bedtools genomecov -5 -bg -strand - \\\n",
    "        -g hg38.chrom.sizes -ibam merged.bam \\\n",
    "        | sort -k1,1 -k2,2n > minus.bedGraph\n",
    "\n",
    "# Convert bedGraph files to bigWig files\n",
    "../.././bedGraphToBigWig plus.bedGraph hg38.chrom.sizes plus.bw\n",
    "../.././bedGraphToBigWig minus.bedGraph hg38.chrom.sizes minus.bw"
   ]
  },
  {
   "cell_type": "markdown",
   "metadata": {
    "id": "jZmB7n8S3Lmj"
   },
   "source": [
    "## 0.5 Create control data"
   ]
  },
  {
   "cell_type": "code",
   "execution_count": 12,
   "metadata": {
    "colab": {
     "base_uri": "https://localhost:8080/"
    },
    "id": "bQ-xtesw5Sku",
    "outputId": "d561cd59-259d-4690-a3c6-2d57f9343d39"
   },
   "outputs": [
    {
     "name": "stderr",
     "output_type": "stream",
     "text": [
      "\n",
      "*****\n",
      "*****WARNING: Genome (-g) files are ignored when BAM input is provided. \n",
      "*****\n"
     ]
    }
   ],
   "source": [
    "%%sh\n",
    "cd ENCSR000EGM/data\n",
    "# Get coverage of 5’ positions of the plus strand\n",
    "bedtools genomecov -5 -bg -strand + \\\n",
    "        -g hg38.chrom.sizes -ibam control.bam \\\n",
    "        | sort -k1,1 -k2,2n > control_plus.bedGraph\n",
    "\n",
    "# Get coverage of 5’ positions of the minus strand\n",
    "bedtools genomecov -5 -bg -strand - \\\n",
    "        -g hg38.chrom.sizes -ibam control.bam \\\n",
    "         | sort -k1,1 -k2,2n > control_minus.bedGraph\n",
    "\n",
    "# Convert bedGraph files to bigWig files\n",
    "../.././bedGraphToBigWig control_plus.bedGraph hg38.chrom.sizes control_plus.bw\n",
    "../.././bedGraphToBigWig control_minus.bedGraph hg38.chrom.sizes control_minus.bw"
   ]
  },
  {
   "cell_type": "markdown",
   "metadata": {
    "id": "T0mekO_TAGvJ"
   },
   "source": [
    "## 0.6 Download peaks BED file"
   ]
  },
  {
   "cell_type": "code",
   "execution_count": 13,
   "metadata": {
    "colab": {
     "base_uri": "https://localhost:8080/"
    },
    "id": "x8g3n1JZAGDi",
    "outputId": "d75bc2f0-17e6-4603-857f-b230270fe4cf"
   },
   "outputs": [],
   "source": [
    "%%sh\n",
    "cd ENCSR000EGM/data\n",
    "wget -q https://www.encodeproject.org/files/ENCFF396BZQ/@@download/ENCFF396BZQ.bed.gz -O peaks.bed.gz"
   ]
  },
  {
   "cell_type": "markdown",
   "metadata": {
    "id": "D7fbxc4vDr6C"
   },
   "source": [
    "# 1.x Run BPNet"
   ]
  },
  {
   "cell_type": "markdown",
   "metadata": {
    "id": "xK5FaUtNLKdI"
   },
   "source": [
    "## 1.0 Download bpnet-lite"
   ]
  },
  {
   "cell_type": "code",
   "execution_count": 14,
   "metadata": {
    "colab": {
     "base_uri": "https://localhost:8080/"
    },
    "id": "ka-aEf0IAuSg",
    "outputId": "06e46b6b-1f32-4b95-8054-e2f0b958a938"
   },
   "outputs": [],
   "source": [
    "!pip install -Uqq bpnet-lite"
   ]
  },
  {
   "cell_type": "markdown",
   "metadata": {
    "id": "V7C3be4zKimf"
   },
   "source": [
    "## 1.1 Download hg38"
   ]
  },
  {
   "cell_type": "code",
   "execution_count": 15,
   "metadata": {
    "colab": {
     "base_uri": "https://localhost:8080/"
    },
    "id": "tMvXaynpKZBv",
    "outputId": "41b54afb-d295-4995-c09a-64c48e5bebe6"
   },
   "outputs": [],
   "source": [
    "%%sh\n",
    "wget -q https://hgdownload.soe.ucsc.edu/goldenPath/hg38/bigZips/latest/hg38.fa.gz -O ENCSR000EGM/data/hg38.fa.gz\n",
    "gunzip -f ENCSR000EGM/data/hg38.fa.gz"
   ]
  },
  {
   "cell_type": "markdown",
   "metadata": {
    "id": "NhLOgxu2KBSO"
   },
   "source": [
    "## 1.2 Create bpnet-lite `fit` JSON file\n",
    "We'll set a low number of epochs for this example."
   ]
  },
  {
   "cell_type": "code",
   "execution_count": 16,
   "metadata": {
    "id": "DZLPzYP4KOAG"
   },
   "outputs": [],
   "source": [
    "%%sh\n",
    "mkdir -p ENCSR000EGM/bpnet\n",
    "# Write to file\n",
    "cat <<EOF > ENCSR000EGM/bpnet/bpnet_fit.json\n",
    "{\n",
    "   \"n_filters\": 64,\n",
    "   \"n_layers\": 8,\n",
    "   \"profile_output_bias\": true,\n",
    "   \"count_output_bias\": true,\n",
    "   \"name\": \"example\",\n",
    "   \"batch_size\": 64,\n",
    "   \"in_window\": 2114,\n",
    "   \"out_window\": 1000,\n",
    "   \"max_jitter\": 128,\n",
    "   \"reverse_complement\": true,\n",
    "   \"max_epochs\": 5,\n",
    "   \"validation_iter\": 100,\n",
    "   \"lr\": 0.001,\n",
    "   \"alpha\": 1,\n",
    "   \"verbose\": true,\n",
    "\n",
    "   \"min_counts\": 0,\n",
    "   \"max_counts\": 99999999,\n",
    "\n",
    "   \"training_chroms\": [\"chr2\", \"chr3\", \"chr4\", \"chr5\", \"chr6\", \"chr7\", \n",
    "      \"chr9\", \"chr11\", \"chr12\", \"chr13\", \"chr14\", \"chr15\", \"chr16\", \"chr17\", \n",
    "      \"chr18\", \"chr19\", \"chr20\", \"chr21\", \"chr22\", \"chrX\"],\n",
    "   \"validation_chroms\": [\"chr8\", \"chr10\"],\n",
    "\n",
    "   \"sequences\":\"../data/hg38.fa\",\n",
    "   \"loci\":\"../data/peaks.bed.gz\",\n",
    "   \"signals\":[\n",
    "      \"../data/plus.bw\", \n",
    "      \"../data/minus.bw\"\n",
    "   ],\n",
    "   \"controls\":[\n",
    "      \"../data/control_plus.bw\", \n",
    "      \"../data/control_minus.bw\"\n",
    "   ],\n",
    "   \"random_state\": 0\n",
    "}\n",
    "EOF\n"
   ]
  },
  {
   "cell_type": "markdown",
   "metadata": {
    "id": "yRmFxOjgFAdl"
   },
   "source": [
    "## 1.3 Train BPNet"
   ]
  },
  {
   "cell_type": "code",
   "execution_count": 17,
   "metadata": {
    "colab": {
     "base_uri": "https://localhost:8080/"
    },
    "id": "twT8Cc9rQNu0",
    "outputId": "c8308ce3-4701-46f7-d874-9c898c171b6c"
   },
   "outputs": [
    {
     "name": "stderr",
     "output_type": "stream",
     "text": [
      "\r",
      "Loading Loci:   0%|          | 0/45969 [00:00<?, ?it/s]\r",
      "Loading Loci:   0%|          | 38/45969 [00:00<02:02, 373.90it/s]\r",
      "Loading Loci:   0%|          | 77/45969 [00:00<02:01, 378.18it/s]\r",
      "Loading Loci:   0%|          | 117/45969 [00:00<01:59, 383.93it/s]\r",
      "Loading Loci:   0%|          | 157/45969 [00:00<01:57, 389.01it/s]\r",
      "Loading Loci:   0%|          | 197/45969 [00:00<01:57, 390.79it/s]\r",
      "Loading Loci:   1%|          | 237/45969 [00:00<01:56, 391.40it/s]\r",
      "Loading Loci:   1%|          | 277/45969 [00:00<01:56, 392.37it/s]\r",
      "Loading Loci:   1%|          | 317/45969 [00:00<01:56, 392.29it/s]\r",
      "Loading Loci:   1%|          | 357/45969 [00:00<01:55, 393.22it/s]\r",
      "Loading Loci:   1%|          | 397/45969 [00:01<01:56, 392.42it/s]\r",
      "Loading Loci:   1%|          | 438/45969 [00:01<01:55, 395.51it/s]\r",
      "Loading Loci:   1%|          | 478/45969 [00:01<01:54, 396.27it/s]\r",
      "Loading Loci:   1%|          | 518/45969 [00:01<01:54, 396.95it/s]\r",
      "Loading Loci:   1%|          | 558/45969 [00:01<01:54, 396.32it/s]\r",
      "Loading Loci:   1%|▏         | 598/45969 [00:01<01:54, 397.12it/s]\r",
      "Loading Loci:   1%|▏         | 638/45969 [00:01<01:54, 396.66it/s]\r",
      "Loading Loci:   1%|▏         | 678/45969 [00:01<01:54, 396.14it/s]\r",
      "Loading Loci:   2%|▏         | 718/45969 [00:01<01:54, 394.45it/s]\r",
      "Loading Loci:   2%|▏         | 758/45969 [00:01<01:54, 395.90it/s]\r",
      "Loading Loci:   2%|▏         | 798/45969 [00:02<01:54, 395.46it/s]\r",
      "Loading Loci:   2%|▏         | 839/45969 [00:02<01:53, 397.21it/s]\r",
      "Loading Loci:   2%|▏         | 879/45969 [00:02<01:53, 397.12it/s]\r",
      "Loading Loci:   2%|▏         | 920/45969 [00:02<01:53, 398.11it/s]\r",
      "Loading Loci:   2%|▏         | 960/45969 [00:02<01:53, 397.34it/s]\r",
      "Loading Loci:   2%|▏         | 1001/45969 [00:02<01:52, 399.55it/s]\r",
      "Loading Loci:   2%|▏         | 1042/45969 [00:02<01:52, 399.72it/s]\r",
      "Loading Loci:   2%|▏         | 1083/45969 [00:02<01:52, 400.22it/s]\r",
      "Loading Loci:   2%|▏         | 1124/45969 [00:02<01:52, 399.87it/s]\r",
      "Loading Loci:   3%|▎         | 1165/45969 [00:02<01:52, 400.02it/s]\r",
      "Loading Loci:   3%|▎         | 1206/45969 [00:03<01:51, 399.93it/s]\r",
      "Loading Loci:   3%|▎         | 1247/45969 [00:03<01:51, 400.41it/s]\r",
      "Loading Loci:   3%|▎         | 1288/45969 [00:03<01:51, 400.34it/s]\r",
      "Loading Loci:   3%|▎         | 1329/45969 [00:03<01:51, 400.57it/s]\r",
      "Loading Loci:   3%|▎         | 1370/45969 [00:03<01:51, 400.29it/s]\r",
      "Loading Loci:   3%|▎         | 1411/45969 [00:03<01:51, 398.54it/s]\r",
      "Loading Loci:   3%|▎         | 1452/45969 [00:03<01:51, 399.45it/s]\r",
      "Loading Loci:   3%|▎         | 1493/45969 [00:03<01:51, 399.83it/s]\r",
      "Loading Loci:   3%|▎         | 1533/45969 [00:03<01:51, 398.19it/s]\r",
      "Loading Loci:   3%|▎         | 1573/45969 [00:03<01:51, 396.54it/s]\r",
      "Loading Loci:   4%|▎         | 1614/45969 [00:04<01:51, 397.95it/s]\r",
      "Loading Loci:   4%|▎         | 1654/45969 [00:04<01:51, 398.42it/s]\r",
      "Loading Loci:   4%|▎         | 1695/45969 [00:04<01:50, 399.34it/s]\r",
      "Loading Loci:   4%|▍         | 1736/45969 [00:04<01:50, 400.23it/s]\r",
      "Loading Loci:   4%|▍         | 1777/45969 [00:04<01:50, 400.83it/s]\r",
      "Loading Loci:   4%|▍         | 1818/45969 [00:04<01:49, 402.11it/s]\r",
      "Loading Loci:   4%|▍         | 1859/45969 [00:04<01:50, 399.22it/s]\r",
      "Loading Loci:   4%|▍         | 1900/45969 [00:04<01:50, 400.51it/s]\r",
      "Loading Loci:   4%|▍         | 1941/45969 [00:04<01:49, 400.42it/s]\r",
      "Loading Loci:   4%|▍         | 1982/45969 [00:04<01:49, 402.38it/s]\r",
      "Loading Loci:   4%|▍         | 2023/45969 [00:05<01:49, 401.20it/s]\r",
      "Loading Loci:   4%|▍         | 2064/45969 [00:05<01:49, 401.92it/s]\r",
      "Loading Loci:   5%|▍         | 2105/45969 [00:05<01:49, 400.86it/s]\r",
      "Loading Loci:   5%|▍         | 2146/45969 [00:05<01:49, 400.37it/s]\r",
      "Loading Loci:   5%|▍         | 2187/45969 [00:05<01:49, 400.42it/s]\r",
      "Loading Loci:   5%|▍         | 2228/45969 [00:05<01:48, 401.51it/s]\r",
      "Loading Loci:   5%|▍         | 2269/45969 [00:05<01:48, 402.29it/s]\r",
      "Loading Loci:   5%|▌         | 2310/45969 [00:05<01:48, 401.87it/s]\r",
      "Loading Loci:   5%|▌         | 2351/45969 [00:05<01:48, 403.13it/s]\r",
      "Loading Loci:   5%|▌         | 2392/45969 [00:06<01:48, 402.11it/s]\r",
      "Loading Loci:   5%|▌         | 2433/45969 [00:06<01:48, 401.25it/s]\r",
      "Loading Loci:   5%|▌         | 2474/45969 [00:06<01:48, 400.77it/s]\r",
      "Loading Loci:   5%|▌         | 2515/45969 [00:06<01:48, 401.43it/s]\r",
      "Loading Loci:   6%|▌         | 2556/45969 [00:06<01:48, 400.13it/s]\r",
      "Loading Loci:   6%|▌         | 2597/45969 [00:06<01:48, 400.45it/s]\r",
      "Loading Loci:   6%|▌         | 2638/45969 [00:06<01:48, 400.77it/s]\r",
      "Loading Loci:   6%|▌         | 2679/45969 [00:06<01:47, 401.90it/s]\r",
      "Loading Loci:   6%|▌         | 2720/45969 [00:06<01:47, 402.56it/s]\r",
      "Loading Loci:   6%|▌         | 2761/45969 [00:06<01:46, 404.38it/s]\r",
      "Loading Loci:   6%|▌         | 2802/45969 [00:07<01:46, 403.80it/s]\r",
      "Loading Loci:   6%|▌         | 2843/45969 [00:07<01:47, 402.76it/s]\r",
      "Loading Loci:   6%|▋         | 2884/45969 [00:07<01:46, 403.91it/s]\r",
      "Loading Loci:   6%|▋         | 2925/45969 [00:07<01:46, 403.26it/s]\r",
      "Loading Loci:   6%|▋         | 2966/45969 [00:07<01:46, 403.88it/s]\r",
      "Loading Loci:   7%|▋         | 3007/45969 [00:07<01:46, 403.47it/s]\r",
      "Loading Loci:   7%|▋         | 3048/45969 [00:07<01:46, 403.40it/s]\r",
      "Loading Loci:   7%|▋         | 3089/45969 [00:07<01:46, 401.88it/s]\r",
      "Loading Loci:   7%|▋         | 3130/45969 [00:07<01:46, 401.63it/s]\r",
      "Loading Loci:   7%|▋         | 3171/45969 [00:07<01:46, 400.40it/s]\r",
      "Loading Loci:   7%|▋         | 3212/45969 [00:08<01:46, 400.89it/s]\r",
      "Loading Loci:   7%|▋         | 3253/45969 [00:08<01:46, 399.27it/s]\r",
      "Loading Loci:   7%|▋         | 3294/45969 [00:08<01:46, 399.89it/s]\r",
      "Loading Loci:   7%|▋         | 3335/45969 [00:08<01:46, 400.78it/s]\r",
      "Loading Loci:   7%|▋         | 3376/45969 [00:08<01:46, 401.44it/s]\r",
      "Loading Loci:   7%|▋         | 3417/45969 [00:08<01:45, 403.24it/s]\r",
      "Loading Loci:   8%|▊         | 3458/45969 [00:08<01:45, 402.16it/s]\r",
      "Loading Loci:   8%|▊         | 3499/45969 [00:08<01:45, 404.40it/s]\r",
      "Loading Loci:   8%|▊         | 3540/45969 [00:08<01:45, 403.39it/s]\r",
      "Loading Loci:   8%|▊         | 3581/45969 [00:08<01:44, 403.95it/s]\r",
      "Loading Loci:   8%|▊         | 3622/45969 [00:09<01:45, 401.93it/s]\r",
      "Loading Loci:   8%|▊         | 3663/45969 [00:09<01:44, 403.04it/s]\r",
      "Loading Loci:   8%|▊         | 3704/45969 [00:09<01:44, 402.56it/s]\r",
      "Loading Loci:   8%|▊         | 3745/45969 [00:09<01:44, 403.09it/s]\r",
      "Loading Loci:   8%|▊         | 3786/45969 [00:09<01:45, 401.35it/s]\r",
      "Loading Loci:   8%|▊         | 3827/45969 [00:09<01:45, 400.86it/s]\r",
      "Loading Loci:   8%|▊         | 3868/45969 [00:09<01:44, 402.50it/s]\r",
      "Loading Loci:   9%|▊         | 3909/45969 [00:09<01:44, 402.20it/s]\r",
      "Loading Loci:   9%|▊         | 3950/45969 [00:09<01:44, 402.04it/s]\r",
      "Loading Loci:   9%|▊         | 3991/45969 [00:09<01:44, 401.32it/s]\r",
      "Loading Loci:   9%|▉         | 4032/45969 [00:10<01:44, 402.48it/s]\r",
      "Loading Loci:   9%|▉         | 4073/45969 [00:10<01:44, 401.69it/s]\r",
      "Loading Loci:   9%|▉         | 4114/45969 [00:10<01:44, 402.10it/s]\r",
      "Loading Loci:   9%|▉         | 4155/45969 [00:10<01:43, 402.17it/s]\r",
      "Loading Loci:   9%|▉         | 4196/45969 [00:10<01:43, 403.00it/s]\r",
      "Loading Loci:   9%|▉         | 4237/45969 [00:10<01:43, 402.93it/s]\r",
      "Loading Loci:   9%|▉         | 4278/45969 [00:10<01:43, 403.85it/s]\r",
      "Loading Loci:   9%|▉         | 4319/45969 [00:10<01:43, 403.48it/s]\r",
      "Loading Loci:   9%|▉         | 4360/45969 [00:10<01:43, 403.49it/s]\r",
      "Loading Loci:  10%|▉         | 4401/45969 [00:11<01:43, 402.05it/s]\r",
      "Loading Loci:  10%|▉         | 4442/45969 [00:11<01:43, 402.73it/s]\r",
      "Loading Loci:  10%|▉         | 4483/45969 [00:11<01:43, 402.70it/s]\r",
      "Loading Loci:  10%|▉         | 4524/45969 [00:11<01:42, 402.92it/s]\r",
      "Loading Loci:  10%|▉         | 4565/45969 [00:11<01:42, 402.51it/s]\r",
      "Loading Loci:  10%|█         | 4606/45969 [00:11<01:42, 403.04it/s]\r",
      "Loading Loci:  10%|█         | 4647/45969 [00:11<01:42, 404.48it/s]\r",
      "Loading Loci:  10%|█         | 4688/45969 [00:11<01:42, 404.08it/s]\r",
      "Loading Loci:  10%|█         | 4729/45969 [00:11<01:41, 404.35it/s]\r",
      "Loading Loci:  10%|█         | 4770/45969 [00:11<01:42, 403.89it/s]\r",
      "Loading Loci:  10%|█         | 4823/45969 [00:12<01:33, 439.87it/s]\r",
      "Loading Loci:  11%|█         | 4880/45969 [00:12<01:25, 478.24it/s]\r",
      "Loading Loci:  11%|█         | 4944/45969 [00:12<01:17, 526.41it/s]\r",
      "Loading Loci:  11%|█         | 5008/45969 [00:12<01:13, 559.33it/s]\r",
      "Loading Loci:  11%|█         | 5072/45969 [00:12<01:10, 582.26it/s]\r",
      "Loading Loci:  11%|█         | 5136/45969 [00:12<01:08, 598.36it/s]\r",
      "Loading Loci:  11%|█▏        | 5200/45969 [00:12<01:06, 610.57it/s]\r",
      "Loading Loci:  11%|█▏        | 5264/45969 [00:12<01:05, 618.28it/s]\r",
      "Loading Loci:  12%|█▏        | 5328/45969 [00:12<01:05, 622.11it/s]\r",
      "Loading Loci:  12%|█▏        | 5392/45969 [00:12<01:04, 624.92it/s]\r",
      "Loading Loci:  12%|█▏        | 5456/45969 [00:13<01:04, 626.38it/s]\r",
      "Loading Loci:  12%|█▏        | 5520/45969 [00:13<01:04, 627.48it/s]\r",
      "Loading Loci:  12%|█▏        | 5583/45969 [00:13<01:04, 626.53it/s]\r",
      "Loading Loci:  12%|█▏        | 5647/45969 [00:13<01:04, 628.56it/s]\r",
      "Loading Loci:  12%|█▏        | 5711/45969 [00:13<01:04, 629.03it/s]\r",
      "Loading Loci:  13%|█▎        | 5775/45969 [00:13<01:03, 630.58it/s]\r",
      "Loading Loci:  13%|█▎        | 5839/45969 [00:13<01:03, 632.11it/s]\r",
      "Loading Loci:  13%|█▎        | 5903/45969 [00:13<01:03, 633.16it/s]\r",
      "Loading Loci:  13%|█▎        | 5967/45969 [00:13<01:03, 632.69it/s]\r",
      "Loading Loci:  13%|█▎        | 6031/45969 [00:13<01:03, 633.41it/s]\r",
      "Loading Loci:  13%|█▎        | 6095/45969 [00:14<01:02, 633.80it/s]\r",
      "Loading Loci:  13%|█▎        | 6159/45969 [00:14<01:02, 632.62it/s]\r",
      "Loading Loci:  14%|█▎        | 6223/45969 [00:14<01:02, 632.07it/s]\r",
      "Loading Loci:  14%|█▎        | 6287/45969 [00:14<01:02, 632.29it/s]\r",
      "Loading Loci:  14%|█▍        | 6351/45969 [00:14<01:02, 631.23it/s]\r",
      "Loading Loci:  14%|█▍        | 6415/45969 [00:14<01:02, 631.16it/s]\r",
      "Loading Loci:  14%|█▍        | 6479/45969 [00:14<01:02, 631.44it/s]\r",
      "Loading Loci:  14%|█▍        | 6543/45969 [00:14<01:02, 632.81it/s]\r",
      "Loading Loci:  14%|█▍        | 6607/45969 [00:14<01:02, 633.63it/s]\r",
      "Loading Loci:  15%|█▍        | 6671/45969 [00:14<01:01, 634.68it/s]\r",
      "Loading Loci:  15%|█▍        | 6735/45969 [00:15<01:01, 634.57it/s]\r",
      "Loading Loci:  15%|█▍        | 6799/45969 [00:15<01:01, 634.94it/s]\r",
      "Loading Loci:  15%|█▍        | 6863/45969 [00:15<01:01, 635.86it/s]\r",
      "Loading Loci:  15%|█▌        | 6927/45969 [00:15<01:01, 636.60it/s]\r",
      "Loading Loci:  15%|█▌        | 6991/45969 [00:15<01:01, 636.43it/s]\r",
      "Loading Loci:  15%|█▌        | 7055/45969 [00:15<01:01, 636.40it/s]\r",
      "Loading Loci:  15%|█▌        | 7119/45969 [00:15<01:00, 637.03it/s]\r",
      "Loading Loci:  16%|█▌        | 7183/45969 [00:15<01:00, 636.91it/s]\r",
      "Loading Loci:  16%|█▌        | 7247/45969 [00:15<01:00, 636.43it/s]\r",
      "Loading Loci:  16%|█▌        | 7311/45969 [00:15<01:00, 635.98it/s]\r",
      "Loading Loci:  16%|█▌        | 7375/45969 [00:16<01:00, 635.64it/s]\r",
      "Loading Loci:  16%|█▌        | 7439/45969 [00:16<01:00, 634.72it/s]\r",
      "Loading Loci:  16%|█▋        | 7503/45969 [00:16<01:00, 632.28it/s]\r",
      "Loading Loci:  16%|█▋        | 7567/45969 [00:16<01:00, 631.65it/s]\r",
      "Loading Loci:  17%|█▋        | 7631/45969 [00:16<01:00, 630.84it/s]\r",
      "Loading Loci:  17%|█▋        | 7695/45969 [00:16<01:00, 632.09it/s]\r",
      "Loading Loci:  17%|█▋        | 7759/45969 [00:16<01:00, 631.43it/s]\r",
      "Loading Loci:  17%|█▋        | 7823/45969 [00:16<01:00, 630.75it/s]\r",
      "Loading Loci:  17%|█▋        | 7887/45969 [00:16<01:00, 631.73it/s]\r",
      "Loading Loci:  17%|█▋        | 7951/45969 [00:16<01:00, 632.29it/s]\r",
      "Loading Loci:  17%|█▋        | 8015/45969 [00:17<01:00, 632.44it/s]\r",
      "Loading Loci:  18%|█▊        | 8079/45969 [00:17<01:00, 630.69it/s]\r",
      "Loading Loci:  18%|█▊        | 8143/45969 [00:17<01:00, 630.02it/s]\r",
      "Loading Loci:  18%|█▊        | 8207/45969 [00:17<00:59, 630.90it/s]\r",
      "Loading Loci:  18%|█▊        | 8271/45969 [00:17<00:59, 631.63it/s]\r",
      "Loading Loci:  18%|█▊        | 8335/45969 [00:17<00:59, 630.32it/s]\r",
      "Loading Loci:  18%|█▊        | 8399/45969 [00:17<00:59, 629.55it/s]\r",
      "Loading Loci:  18%|█▊        | 8462/45969 [00:17<00:59, 629.67it/s]\r",
      "Loading Loci:  19%|█▊        | 8526/45969 [00:17<00:59, 631.28it/s]\r",
      "Loading Loci:  19%|█▊        | 8590/45969 [00:17<00:59, 631.70it/s]\r",
      "Loading Loci:  19%|█▉        | 8654/45969 [00:18<00:58, 633.40it/s]\r",
      "Loading Loci:  19%|█▉        | 8718/45969 [00:18<01:07, 548.31it/s]\r",
      "Loading Loci:  19%|█▉        | 8775/45969 [00:18<01:15, 493.55it/s]\r",
      "Loading Loci:  19%|█▉        | 8827/45969 [00:18<01:19, 464.90it/s]\r",
      "Loading Loci:  19%|█▉        | 8876/45969 [00:18<01:23, 445.17it/s]\r",
      "Loading Loci:  19%|█▉        | 8922/45969 [00:18<01:25, 433.06it/s]\r",
      "Loading Loci:  20%|█▉        | 8966/45969 [00:18<01:27, 423.99it/s]\r",
      "Loading Loci:  20%|█▉        | 9009/45969 [00:18<01:28, 416.50it/s]\r",
      "Loading Loci:  20%|█▉        | 9051/45969 [00:19<01:29, 410.33it/s]\r",
      "Loading Loci:  20%|█▉        | 9093/45969 [00:19<01:30, 409.20it/s]\r",
      "Loading Loci:  20%|█▉        | 9158/45969 [00:19<01:17, 476.59it/s]\r",
      "Loading Loci:  20%|██        | 9224/45969 [00:19<01:09, 526.94it/s]\r",
      "Loading Loci:  20%|██        | 9290/45969 [00:19<01:05, 563.96it/s]\r",
      "Loading Loci:  20%|██        | 9356/45969 [00:19<01:02, 589.40it/s]\r",
      "Loading Loci:  20%|██        | 9422/45969 [00:19<01:00, 608.06it/s]\r",
      "Loading Loci:  21%|██        | 9485/45969 [00:19<00:59, 612.51it/s]\r",
      "Loading Loci:  21%|██        | 9550/45969 [00:19<00:58, 622.56it/s]\r",
      "Loading Loci:  21%|██        | 9616/45969 [00:19<00:57, 631.80it/s]\r",
      "Loading Loci:  21%|██        | 9681/45969 [00:20<00:56, 636.73it/s]\r",
      "Loading Loci:  21%|██        | 9745/45969 [00:20<00:57, 630.81it/s]\r",
      "Loading Loci:  21%|██▏       | 9810/45969 [00:20<00:56, 635.04it/s]\r",
      "Loading Loci:  21%|██▏       | 9876/45969 [00:20<00:56, 640.14it/s]\r",
      "Loading Loci:  22%|██▏       | 9942/45969 [00:20<00:55, 643.94it/s]\r",
      "Loading Loci:  22%|██▏       | 10007/45969 [00:20<00:56, 636.89it/s]\r",
      "Loading Loci:  22%|██▏       | 10072/45969 [00:20<00:56, 640.15it/s]\r",
      "Loading Loci:  22%|██▏       | 10138/45969 [00:20<00:55, 643.62it/s]\r",
      "Loading Loci:  22%|██▏       | 10204/45969 [00:20<00:55, 646.41it/s]\r",
      "Loading Loci:  22%|██▏       | 10270/45969 [00:20<00:55, 648.89it/s]\r",
      "Loading Loci:  22%|██▏       | 10335/45969 [00:21<00:55, 643.69it/s]\r",
      "Loading Loci:  23%|██▎       | 10401/45969 [00:21<00:55, 646.41it/s]\r",
      "Loading Loci:  23%|██▎       | 10467/45969 [00:21<00:54, 649.28it/s]\r",
      "Loading Loci:  23%|██▎       | 10533/45969 [00:21<00:54, 650.46it/s]\r",
      "Loading Loci:  23%|██▎       | 10599/45969 [00:21<00:54, 651.84it/s]\r",
      "Loading Loci:  23%|██▎       | 10665/45969 [00:21<00:54, 645.45it/s]\r",
      "Loading Loci:  23%|██▎       | 10731/45969 [00:21<00:54, 647.35it/s]\r",
      "Loading Loci:  23%|██▎       | 10797/45969 [00:21<00:54, 649.43it/s]\r",
      "Loading Loci:  24%|██▎       | 10863/45969 [00:21<00:53, 650.78it/s]\r",
      "Loading Loci:  24%|██▍       | 10929/45969 [00:22<00:53, 651.18it/s]\r",
      "Loading Loci:  24%|██▍       | 10995/45969 [00:22<00:54, 643.64it/s]\r",
      "Loading Loci:  24%|██▍       | 11061/45969 [00:22<00:53, 646.84it/s]\r",
      "Loading Loci:  24%|██▍       | 11127/45969 [00:22<00:53, 649.38it/s]\r",
      "Loading Loci:  24%|██▍       | 11193/45969 [00:22<00:53, 651.54it/s]\r",
      "Loading Loci:  24%|██▍       | 11259/45969 [00:22<00:53, 652.97it/s]\r",
      "Loading Loci:  25%|██▍       | 11325/45969 [00:22<00:53, 653.52it/s]\r",
      "Loading Loci:  25%|██▍       | 11391/45969 [00:22<00:52, 654.32it/s]\r",
      "Loading Loci:  25%|██▍       | 11457/45969 [00:22<00:52, 654.44it/s]\r",
      "Loading Loci:  25%|██▌       | 11523/45969 [00:22<00:52, 654.55it/s]\r",
      "Loading Loci:  25%|██▌       | 11589/45969 [00:23<00:52, 655.19it/s]\r",
      "Loading Loci:  25%|██▌       | 11655/45969 [00:23<00:52, 647.73it/s]\r",
      "Loading Loci:  25%|██▌       | 11721/45969 [00:23<00:52, 650.03it/s]\r",
      "Loading Loci:  26%|██▌       | 11787/45969 [00:23<00:52, 650.57it/s]\r",
      "Loading Loci:  26%|██▌       | 11853/45969 [00:23<00:52, 652.92it/s]\r",
      "Loading Loci:  26%|██▌       | 11919/45969 [00:23<00:52, 653.97it/s]\r",
      "Loading Loci:  26%|██▌       | 11985/45969 [00:23<00:51, 655.22it/s]\r",
      "Loading Loci:  26%|██▌       | 12051/45969 [00:23<00:51, 655.29it/s]\r",
      "Loading Loci:  26%|██▋       | 12117/45969 [00:23<00:51, 656.47it/s]\r",
      "Loading Loci:  27%|██▋       | 12183/45969 [00:23<00:51, 656.56it/s]\r",
      "Loading Loci:  27%|██▋       | 12249/45969 [00:24<00:51, 655.29it/s]\r",
      "Loading Loci:  27%|██▋       | 12315/45969 [00:24<00:51, 648.30it/s]\r",
      "Loading Loci:  27%|██▋       | 12381/45969 [00:24<00:51, 650.12it/s]\r",
      "Loading Loci:  27%|██▋       | 12447/45969 [00:24<00:51, 650.89it/s]\r",
      "Loading Loci:  27%|██▋       | 12513/45969 [00:24<00:51, 651.11it/s]\r",
      "Loading Loci:  27%|██▋       | 12579/45969 [00:24<00:51, 653.51it/s]\r",
      "Loading Loci:  28%|██▊       | 12645/45969 [00:24<00:50, 655.02it/s]\r",
      "Loading Loci:  28%|██▊       | 12711/45969 [00:24<00:50, 655.59it/s]\r",
      "Loading Loci:  28%|██▊       | 12777/45969 [00:24<00:50, 656.68it/s]\r",
      "Loading Loci:  28%|██▊       | 12843/45969 [00:24<00:50, 656.31it/s]\r",
      "Loading Loci:  28%|██▊       | 12909/45969 [00:25<00:50, 655.76it/s]\r",
      "Loading Loci:  28%|██▊       | 12975/45969 [00:25<00:51, 646.15it/s]\r",
      "Loading Loci:  28%|██▊       | 13041/45969 [00:25<00:50, 648.65it/s]\r",
      "Loading Loci:  29%|██▊       | 13107/45969 [00:25<00:50, 649.52it/s]\r",
      "Loading Loci:  29%|██▊       | 13173/45969 [00:25<00:50, 652.19it/s]\r",
      "Loading Loci:  29%|██▉       | 13239/45969 [00:25<00:50, 653.57it/s]\r",
      "Loading Loci:  29%|██▉       | 13305/45969 [00:25<00:49, 654.23it/s]\r",
      "Loading Loci:  29%|██▉       | 13371/45969 [00:25<00:49, 654.86it/s]\r",
      "Loading Loci:  29%|██▉       | 13437/45969 [00:25<00:49, 656.07it/s]\r",
      "Loading Loci:  29%|██▉       | 13503/45969 [00:25<00:49, 656.40it/s]\r",
      "Loading Loci:  30%|██▉       | 13570/45969 [00:26<00:49, 657.46it/s]\r",
      "Loading Loci:  30%|██▉       | 13636/45969 [00:26<00:49, 657.30it/s]\r",
      "Loading Loci:  30%|██▉       | 13703/45969 [00:26<00:48, 658.49it/s]\r",
      "Loading Loci:  30%|██▉       | 13769/45969 [00:26<00:48, 657.77it/s]\r",
      "Loading Loci:  30%|███       | 13835/45969 [00:26<00:48, 657.34it/s]\r",
      "Loading Loci:  30%|███       | 13901/45969 [00:26<00:48, 657.82it/s]\r",
      "Loading Loci:  30%|███       | 13967/45969 [00:26<00:48, 657.65it/s]\r",
      "Loading Loci:  31%|███       | 14033/45969 [00:26<00:48, 656.27it/s]\r",
      "Loading Loci:  31%|███       | 14099/45969 [00:26<00:48, 656.15it/s]\r",
      "Loading Loci:  31%|███       | 14165/45969 [00:26<00:48, 656.62it/s]\r",
      "Loading Loci:  31%|███       | 14231/45969 [00:27<00:48, 656.76it/s]\r",
      "Loading Loci:  31%|███       | 14297/45969 [00:27<00:48, 657.07it/s]\r",
      "Loading Loci:  31%|███       | 14363/45969 [00:27<00:48, 649.73it/s]\r",
      "Loading Loci:  31%|███▏      | 14429/45969 [00:27<00:48, 651.00it/s]\r",
      "Loading Loci:  32%|███▏      | 14495/45969 [00:27<00:48, 652.81it/s]\r",
      "Loading Loci:  32%|███▏      | 14561/45969 [00:27<00:47, 654.49it/s]\r",
      "Loading Loci:  32%|███▏      | 14627/45969 [00:27<00:47, 655.60it/s]\r",
      "Loading Loci:  32%|███▏      | 14693/45969 [00:27<00:47, 655.95it/s]\r",
      "Loading Loci:  32%|███▏      | 14759/45969 [00:27<00:47, 656.44it/s]\r",
      "Loading Loci:  32%|███▏      | 14825/45969 [00:27<00:47, 656.84it/s]\r",
      "Loading Loci:  32%|███▏      | 14891/45969 [00:28<00:47, 657.62it/s]\r",
      "Loading Loci:  33%|███▎      | 14957/45969 [00:28<00:47, 657.24it/s]\r",
      "Loading Loci:  33%|███▎      | 15023/45969 [00:28<00:47, 657.49it/s]\r",
      "Loading Loci:  33%|███▎      | 15089/45969 [00:28<00:46, 658.08it/s]\r",
      "Loading Loci:  33%|███▎      | 15156/45969 [00:28<00:46, 658.77it/s]\r",
      "Loading Loci:  33%|███▎      | 15222/45969 [00:28<00:46, 658.75it/s]\r",
      "Loading Loci:  33%|███▎      | 15288/45969 [00:28<00:46, 658.65it/s]\r",
      "Loading Loci:  33%|███▎      | 15354/45969 [00:28<00:46, 658.60it/s]\r",
      "Loading Loci:  34%|███▎      | 15420/45969 [00:28<00:46, 658.40it/s]\r",
      "Loading Loci:  34%|███▎      | 15486/45969 [00:28<00:46, 658.20it/s]\r",
      "Loading Loci:  34%|███▍      | 15552/45969 [00:29<00:46, 658.08it/s]\r",
      "Loading Loci:  34%|███▍      | 15618/45969 [00:29<00:46, 658.35it/s]\r",
      "Loading Loci:  34%|███▍      | 15684/45969 [00:29<00:46, 652.44it/s]\r",
      "Loading Loci:  34%|███▍      | 15750/45969 [00:29<00:46, 654.38it/s]\r",
      "Loading Loci:  34%|███▍      | 15817/45969 [00:29<00:45, 656.13it/s]\r",
      "Loading Loci:  35%|███▍      | 15883/45969 [00:29<00:45, 656.54it/s]\r",
      "Loading Loci:  35%|███▍      | 15950/45969 [00:29<00:45, 657.96it/s]\r",
      "Loading Loci:  35%|███▍      | 16016/45969 [00:29<00:45, 658.54it/s]\r",
      "Loading Loci:  35%|███▍      | 16082/45969 [00:29<00:45, 658.73it/s]\r",
      "Loading Loci:  35%|███▌      | 16148/45969 [00:29<00:45, 658.61it/s]\r",
      "Loading Loci:  35%|███▌      | 16214/45969 [00:30<00:45, 658.32it/s]\r",
      "Loading Loci:  35%|███▌      | 16280/45969 [00:30<00:45, 658.20it/s]\r",
      "Loading Loci:  36%|███▌      | 16347/45969 [00:30<00:44, 659.51it/s]\r",
      "Loading Loci:  36%|███▌      | 16413/45969 [00:30<00:44, 659.02it/s]\r",
      "Loading Loci:  36%|███▌      | 16479/45969 [00:30<00:44, 659.24it/s]\r",
      "Loading Loci:  36%|███▌      | 16545/45969 [00:30<00:44, 658.94it/s]\r",
      "Loading Loci:  36%|███▌      | 16611/45969 [00:30<00:44, 658.89it/s]\r",
      "Loading Loci:  36%|███▋      | 16678/45969 [00:30<00:44, 659.46it/s]\r",
      "Loading Loci:  36%|███▋      | 16744/45969 [00:30<00:44, 658.58it/s]\r",
      "Loading Loci:  37%|███▋      | 16810/45969 [00:30<00:44, 658.54it/s]\r",
      "Loading Loci:  37%|███▋      | 16876/45969 [00:31<00:44, 658.94it/s]\r",
      "Loading Loci:  37%|███▋      | 16942/45969 [00:31<00:44, 659.06it/s]\r",
      "Loading Loci:  37%|███▋      | 17009/45969 [00:31<00:43, 659.54it/s]\r",
      "Loading Loci:  37%|███▋      | 17075/45969 [00:31<00:43, 658.84it/s]\r",
      "Loading Loci:  37%|███▋      | 17142/45969 [00:31<00:43, 659.24it/s]\r",
      "Loading Loci:  37%|███▋      | 17208/45969 [00:31<00:43, 658.94it/s]\r",
      "Loading Loci:  38%|███▊      | 17274/45969 [00:31<00:43, 659.22it/s]\r",
      "Loading Loci:  38%|███▊      | 17341/45969 [00:31<00:43, 659.54it/s]\r",
      "Loading Loci:  38%|███▊      | 17407/45969 [00:31<00:43, 658.41it/s]\r",
      "Loading Loci:  38%|███▊      | 17474/45969 [00:31<00:43, 659.00it/s]\r",
      "Loading Loci:  38%|███▊      | 17540/45969 [00:32<00:43, 659.23it/s]\r",
      "Loading Loci:  38%|███▊      | 17606/45969 [00:32<00:43, 659.13it/s]\r",
      "Loading Loci:  38%|███▊      | 17673/45969 [00:32<00:42, 659.56it/s]\r",
      "Loading Loci:  39%|███▊      | 17739/45969 [00:32<00:42, 658.67it/s]\r",
      "Loading Loci:  39%|███▊      | 17805/45969 [00:32<00:42, 658.01it/s]\r",
      "Loading Loci:  39%|███▉      | 17871/45969 [00:32<00:42, 657.31it/s]\r",
      "Loading Loci:  39%|███▉      | 17937/45969 [00:32<00:42, 657.65it/s]\r",
      "Loading Loci:  39%|███▉      | 18004/45969 [00:32<00:42, 658.51it/s]\r",
      "Loading Loci:  39%|███▉      | 18070/45969 [00:32<00:42, 658.38it/s]\r",
      "Loading Loci:  39%|███▉      | 18136/45969 [00:32<00:42, 658.01it/s]\r",
      "Loading Loci:  40%|███▉      | 18202/45969 [00:33<00:42, 658.25it/s]\r",
      "Loading Loci:  40%|███▉      | 18269/45969 [00:33<00:42, 659.17it/s]\r",
      "Loading Loci:  40%|███▉      | 18335/45969 [00:33<00:42, 652.72it/s]\r",
      "Loading Loci:  40%|████      | 18402/45969 [00:33<00:42, 654.94it/s]\r",
      "Loading Loci:  40%|████      | 18468/45969 [00:33<00:41, 656.10it/s]\r",
      "Loading Loci:  40%|████      | 18534/45969 [00:33<00:41, 656.96it/s]\r",
      "Loading Loci:  40%|████      | 18600/45969 [00:33<00:41, 657.23it/s]\r",
      "Loading Loci:  41%|████      | 18666/45969 [00:33<00:41, 656.79it/s]\r",
      "Loading Loci:  41%|████      | 18732/45969 [00:33<00:41, 656.87it/s]\r",
      "Loading Loci:  41%|████      | 18798/45969 [00:34<00:41, 657.25it/s]\r",
      "Loading Loci:  41%|████      | 18864/45969 [00:34<00:41, 655.02it/s]\r",
      "Loading Loci:  41%|████      | 18930/45969 [00:34<00:41, 654.44it/s]\r",
      "Loading Loci:  41%|████▏     | 18996/45969 [00:34<00:41, 654.39it/s]\r",
      "Loading Loci:  41%|████▏     | 19062/45969 [00:34<00:41, 654.47it/s]\r",
      "Loading Loci:  42%|████▏     | 19128/45969 [00:34<00:40, 654.73it/s]\r",
      "Loading Loci:  42%|████▏     | 19194/45969 [00:34<00:40, 654.51it/s]\r",
      "Loading Loci:  42%|████▏     | 19260/45969 [00:34<00:40, 654.48it/s]\r",
      "Loading Loci:  42%|████▏     | 19326/45969 [00:34<00:40, 654.49it/s]\r",
      "Loading Loci:  42%|████▏     | 19392/45969 [00:34<00:40, 654.58it/s]\r",
      "Loading Loci:  42%|████▏     | 19458/45969 [00:35<00:40, 655.62it/s]\r",
      "Loading Loci:  42%|████▏     | 19524/45969 [00:35<00:40, 656.53it/s]\r",
      "Loading Loci:  43%|████▎     | 19590/45969 [00:35<00:40, 657.22it/s]\r",
      "Loading Loci:  43%|████▎     | 19656/45969 [00:35<00:40, 649.64it/s]\r",
      "Loading Loci:  43%|████▎     | 19722/45969 [00:35<00:40, 652.23it/s]\r",
      "Loading Loci:  43%|████▎     | 19788/45969 [00:35<00:40, 654.07it/s]\r",
      "Loading Loci:  43%|████▎     | 19855/45969 [00:35<00:39, 656.31it/s]\r",
      "Loading Loci:  43%|████▎     | 19921/45969 [00:35<00:39, 656.80it/s]\r",
      "Loading Loci:  43%|████▎     | 19987/45969 [00:35<00:39, 657.53it/s]\r",
      "Loading Loci:  44%|████▎     | 20054/45969 [00:35<00:39, 658.34it/s]\r",
      "Loading Loci:  44%|████▍     | 20121/45969 [00:36<00:39, 659.29it/s]\r",
      "Loading Loci:  44%|████▍     | 20187/45969 [00:36<00:39, 659.44it/s]\r",
      "Loading Loci:  44%|████▍     | 20253/45969 [00:36<00:39, 658.96it/s]\r",
      "Loading Loci:  44%|████▍     | 20319/45969 [00:36<00:38, 659.26it/s]\r",
      "Loading Loci:  44%|████▍     | 20386/45969 [00:36<00:38, 659.86it/s]\r",
      "Loading Loci:  44%|████▍     | 20453/45969 [00:36<00:38, 660.27it/s]\r",
      "Loading Loci:  45%|████▍     | 20520/45969 [00:36<00:38, 659.91it/s]\r",
      "Loading Loci:  45%|████▍     | 20586/45969 [00:36<00:38, 659.61it/s]\r",
      "Loading Loci:  45%|████▍     | 20652/45969 [00:36<00:38, 659.21it/s]\r",
      "Loading Loci:  45%|████▌     | 20719/45969 [00:36<00:38, 659.57it/s]\r",
      "Loading Loci:  45%|████▌     | 20785/45969 [00:37<00:38, 659.42it/s]\r",
      "Loading Loci:  45%|████▌     | 20851/45969 [00:37<00:38, 658.80it/s]\r",
      "Loading Loci:  46%|████▌     | 20917/45969 [00:37<00:38, 656.62it/s]\r",
      "Loading Loci:  46%|████▌     | 20983/45969 [00:37<00:38, 656.67it/s]\r",
      "Loading Loci:  46%|████▌     | 21049/45969 [00:37<00:37, 656.75it/s]\r",
      "Loading Loci:  46%|████▌     | 21115/45969 [00:37<00:37, 656.82it/s]\r",
      "Loading Loci:  46%|████▌     | 21181/45969 [00:37<00:37, 656.11it/s]\r",
      "Loading Loci:  46%|████▌     | 21247/45969 [00:37<00:37, 655.86it/s]\r",
      "Loading Loci:  46%|████▋     | 21314/45969 [00:37<00:37, 657.21it/s]\r",
      "Loading Loci:  47%|████▋     | 21380/45969 [00:37<00:37, 657.62it/s]\r",
      "Loading Loci:  47%|████▋     | 21446/45969 [00:38<00:37, 657.49it/s]\r",
      "Loading Loci:  47%|████▋     | 21512/45969 [00:38<00:37, 657.38it/s]\r",
      "Loading Loci:  47%|████▋     | 21578/45969 [00:38<00:37, 657.74it/s]\r",
      "Loading Loci:  47%|████▋     | 21644/45969 [00:38<00:36, 657.61it/s]\r",
      "Loading Loci:  47%|████▋     | 21710/45969 [00:38<00:36, 657.71it/s]\r",
      "Loading Loci:  47%|████▋     | 21776/45969 [00:38<00:36, 657.39it/s]\r",
      "Loading Loci:  48%|████▊     | 21842/45969 [00:38<00:36, 654.58it/s]\r",
      "Loading Loci:  48%|████▊     | 21908/45969 [00:38<00:36, 655.19it/s]\r",
      "Loading Loci:  48%|████▊     | 21974/45969 [00:38<00:36, 655.81it/s]\r",
      "Loading Loci:  48%|████▊     | 22040/45969 [00:38<00:36, 655.18it/s]\r",
      "Loading Loci:  48%|████▊     | 22106/45969 [00:39<00:36, 653.57it/s]\r",
      "Loading Loci:  48%|████▊     | 22172/45969 [00:39<00:36, 651.65it/s]\r",
      "Loading Loci:  48%|████▊     | 22238/45969 [00:39<00:36, 653.04it/s]\r",
      "Loading Loci:  49%|████▊     | 22304/45969 [00:39<00:36, 646.13it/s]\r",
      "Loading Loci:  49%|████▊     | 22370/45969 [00:39<00:36, 648.69it/s]\r",
      "Loading Loci:  49%|████▉     | 22436/45969 [00:39<00:36, 651.34it/s]\r",
      "Loading Loci:  49%|████▉     | 22502/45969 [00:39<00:35, 653.33it/s]\r",
      "Loading Loci:  49%|████▉     | 22568/45969 [00:39<00:35, 654.67it/s]\r",
      "Loading Loci:  49%|████▉     | 22634/45969 [00:39<00:35, 656.12it/s]\r",
      "Loading Loci:  49%|████▉     | 22700/45969 [00:39<00:35, 657.03it/s]\r",
      "Loading Loci:  50%|████▉     | 22766/45969 [00:40<00:35, 656.59it/s]\r",
      "Loading Loci:  50%|████▉     | 22832/45969 [00:40<00:35, 657.22it/s]\r",
      "Loading Loci:  50%|████▉     | 22898/45969 [00:40<00:35, 657.58it/s]\r",
      "Loading Loci:  50%|████▉     | 22964/45969 [00:40<00:34, 658.14it/s]\r",
      "Loading Loci:  50%|█████     | 23030/45969 [00:40<00:34, 658.47it/s]\r",
      "Loading Loci:  50%|█████     | 23096/45969 [00:40<00:34, 657.85it/s]\r",
      "Loading Loci:  50%|█████     | 23162/45969 [00:40<00:34, 658.00it/s]\r",
      "Loading Loci:  51%|█████     | 23228/45969 [00:40<00:34, 658.55it/s]\r",
      "Loading Loci:  51%|█████     | 23294/45969 [00:40<00:34, 657.94it/s]\r",
      "Loading Loci:  51%|█████     | 23360/45969 [00:40<00:34, 657.06it/s]\r",
      "Loading Loci:  51%|█████     | 23426/45969 [00:41<00:34, 656.83it/s]\r",
      "Loading Loci:  51%|█████     | 23492/45969 [00:41<00:34, 656.89it/s]\r",
      "Loading Loci:  51%|█████     | 23558/45969 [00:41<00:34, 656.77it/s]\r",
      "Loading Loci:  51%|█████▏    | 23624/45969 [00:41<00:33, 657.40it/s]\r",
      "Loading Loci:  52%|█████▏    | 23690/45969 [00:41<00:33, 657.35it/s]\r",
      "Loading Loci:  52%|█████▏    | 23756/45969 [00:41<00:33, 657.61it/s]\r",
      "Loading Loci:  52%|█████▏    | 23822/45969 [00:41<00:33, 656.34it/s]\r",
      "Loading Loci:  52%|█████▏    | 23888/45969 [00:41<00:33, 656.76it/s]\r",
      "Loading Loci:  52%|█████▏    | 23954/45969 [00:41<00:33, 657.44it/s]\r",
      "Loading Loci:  52%|█████▏    | 24020/45969 [00:41<00:33, 657.25it/s]\r",
      "Loading Loci:  52%|█████▏    | 24086/45969 [00:42<00:33, 657.37it/s]\r",
      "Loading Loci:  53%|█████▎    | 24152/45969 [00:42<00:33, 657.23it/s]\r",
      "Loading Loci:  53%|█████▎    | 24218/45969 [00:42<00:33, 657.71it/s]\r",
      "Loading Loci:  53%|█████▎    | 24284/45969 [00:42<00:32, 658.21it/s]\r",
      "Loading Loci:  53%|█████▎    | 24350/45969 [00:42<00:32, 657.59it/s]\r",
      "Loading Loci:  53%|█████▎    | 24416/45969 [00:42<00:32, 657.76it/s]\r",
      "Loading Loci:  53%|█████▎    | 24482/45969 [00:42<00:32, 657.80it/s]\r",
      "Loading Loci:  53%|█████▎    | 24548/45969 [00:42<00:32, 657.21it/s]\r",
      "Loading Loci:  54%|█████▎    | 24614/45969 [00:42<00:32, 657.32it/s]\r",
      "Loading Loci:  54%|█████▎    | 24680/45969 [00:42<00:32, 657.56it/s]\r",
      "Loading Loci:  54%|█████▍    | 24746/45969 [00:43<00:32, 657.55it/s]\r",
      "Loading Loci:  54%|█████▍    | 24812/45969 [00:43<00:32, 657.44it/s]\r",
      "Loading Loci:  54%|█████▍    | 24878/45969 [00:43<00:32, 657.89it/s]\r",
      "Loading Loci:  54%|█████▍    | 24944/45969 [00:43<00:32, 646.94it/s]\r",
      "Loading Loci:  54%|█████▍    | 25010/45969 [00:43<00:32, 649.99it/s]\r",
      "Loading Loci:  55%|█████▍    | 25076/45969 [00:43<00:32, 652.35it/s]\r",
      "Loading Loci:  55%|█████▍    | 25142/45969 [00:43<00:31, 654.33it/s]\r",
      "Loading Loci:  55%|█████▍    | 25208/45969 [00:43<00:31, 654.72it/s]\r",
      "Loading Loci:  55%|█████▍    | 25274/45969 [00:43<00:31, 656.02it/s]\r",
      "Loading Loci:  55%|█████▌    | 25340/45969 [00:43<00:31, 656.24it/s]\r",
      "Loading Loci:  55%|█████▌    | 25406/45969 [00:44<00:31, 656.25it/s]\r",
      "Loading Loci:  55%|█████▌    | 25472/45969 [00:44<00:31, 655.98it/s]\r",
      "Loading Loci:  56%|█████▌    | 25538/45969 [00:44<00:31, 656.12it/s]\r",
      "Loading Loci:  56%|█████▌    | 25605/45969 [00:44<00:30, 657.42it/s]\r",
      "Loading Loci:  56%|█████▌    | 25671/45969 [00:44<00:30, 657.00it/s]\r",
      "Loading Loci:  56%|█████▌    | 25737/45969 [00:44<00:30, 657.14it/s]\r",
      "Loading Loci:  56%|█████▌    | 25803/45969 [00:44<00:30, 657.42it/s]\r",
      "Loading Loci:  56%|█████▋    | 25869/45969 [00:44<00:30, 657.40it/s]\r",
      "Loading Loci:  56%|█████▋    | 25935/45969 [00:44<00:30, 655.75it/s]\r",
      "Loading Loci:  57%|█████▋    | 26001/45969 [00:44<00:30, 656.65it/s]\r",
      "Loading Loci:  57%|█████▋    | 26067/45969 [00:45<00:30, 655.68it/s]\r",
      "Loading Loci:  57%|█████▋    | 26133/45969 [00:45<00:30, 656.15it/s]\r",
      "Loading Loci:  57%|█████▋    | 26199/45969 [00:45<00:30, 654.85it/s]\r",
      "Loading Loci:  57%|█████▋    | 26265/45969 [00:45<00:30, 655.95it/s]\r",
      "Loading Loci:  57%|█████▋    | 26331/45969 [00:45<00:29, 656.03it/s]\r",
      "Loading Loci:  57%|█████▋    | 26397/45969 [00:45<00:29, 656.11it/s]\r",
      "Loading Loci:  58%|█████▊    | 26463/45969 [00:45<00:29, 656.13it/s]\r",
      "Loading Loci:  58%|█████▊    | 26529/45969 [00:45<00:29, 656.56it/s]\r",
      "Loading Loci:  58%|█████▊    | 26595/45969 [00:45<00:29, 656.53it/s]\r",
      "Loading Loci:  58%|█████▊    | 26661/45969 [00:45<00:29, 656.32it/s]\r",
      "Loading Loci:  58%|█████▊    | 26727/45969 [00:46<00:29, 656.85it/s]\r",
      "Loading Loci:  58%|█████▊    | 26793/45969 [00:46<00:29, 657.50it/s]\r",
      "Loading Loci:  58%|█████▊    | 26859/45969 [00:46<00:29, 657.45it/s]\r",
      "Loading Loci:  59%|█████▊    | 26925/45969 [00:46<00:28, 657.13it/s]\r",
      "Loading Loci:  59%|█████▊    | 26991/45969 [00:46<00:28, 657.49it/s]\r",
      "Loading Loci:  59%|█████▉    | 27057/45969 [00:46<00:28, 657.72it/s]\r",
      "Loading Loci:  59%|█████▉    | 27123/45969 [00:46<00:28, 657.80it/s]\r",
      "Loading Loci:  59%|█████▉    | 27189/45969 [00:46<00:28, 657.74it/s]\r",
      "Loading Loci:  59%|█████▉    | 27255/45969 [00:46<00:28, 656.71it/s]\r",
      "Loading Loci:  59%|█████▉    | 27321/45969 [00:46<00:28, 656.76it/s]\r",
      "Loading Loci:  60%|█████▉    | 27387/45969 [00:47<00:28, 656.42it/s]\r",
      "Loading Loci:  60%|█████▉    | 27453/45969 [00:47<00:28, 656.58it/s]\r",
      "Loading Loci:  60%|█████▉    | 27519/45969 [00:47<00:28, 656.81it/s]\r",
      "Loading Loci:  60%|██████    | 27585/45969 [00:47<00:27, 656.95it/s]\r",
      "Loading Loci:  60%|██████    | 27651/45969 [00:47<00:28, 651.46it/s]\r",
      "Loading Loci:  60%|██████    | 27717/45969 [00:47<00:27, 652.71it/s]\r",
      "Loading Loci:  60%|██████    | 27783/45969 [00:47<00:27, 652.97it/s]\r",
      "Loading Loci:  61%|██████    | 27849/45969 [00:47<00:27, 654.18it/s]\r",
      "Loading Loci:  61%|██████    | 27915/45969 [00:47<00:27, 655.48it/s]\r",
      "Loading Loci:  61%|██████    | 27981/45969 [00:48<00:27, 655.04it/s]\r",
      "Loading Loci:  61%|██████    | 28047/45969 [00:48<00:27, 655.16it/s]\r",
      "Loading Loci:  61%|██████    | 28113/45969 [00:48<00:27, 656.37it/s]\r",
      "Loading Loci:  61%|██████▏   | 28179/45969 [00:48<00:27, 656.24it/s]\r",
      "Loading Loci:  61%|██████▏   | 28246/45969 [00:48<00:26, 657.41it/s]\r",
      "Loading Loci:  62%|██████▏   | 28312/45969 [00:48<00:26, 656.43it/s]\r",
      "Loading Loci:  62%|██████▏   | 28378/45969 [00:48<00:26, 657.41it/s]\r",
      "Loading Loci:  62%|██████▏   | 28444/45969 [00:48<00:26, 656.85it/s]\r",
      "Loading Loci:  62%|██████▏   | 28510/45969 [00:48<00:26, 657.25it/s]\r",
      "Loading Loci:  62%|██████▏   | 28576/45969 [00:48<00:26, 656.76it/s]\r",
      "Loading Loci:  62%|██████▏   | 28642/45969 [00:49<00:26, 656.99it/s]\r",
      "Loading Loci:  62%|██████▏   | 28708/45969 [00:49<00:26, 656.38it/s]\r",
      "Loading Loci:  63%|██████▎   | 28775/45969 [00:49<00:26, 657.74it/s]\r",
      "Loading Loci:  63%|██████▎   | 28841/45969 [00:49<00:26, 657.71it/s]\r",
      "Loading Loci:  63%|██████▎   | 28907/45969 [00:49<00:25, 657.76it/s]\r",
      "Loading Loci:  63%|██████▎   | 28973/45969 [00:49<00:25, 656.90it/s]\r",
      "Loading Loci:  63%|██████▎   | 29039/45969 [00:49<00:25, 656.65it/s]\r",
      "Loading Loci:  63%|██████▎   | 29105/45969 [00:49<00:25, 656.60it/s]\r",
      "Loading Loci:  63%|██████▎   | 29171/45969 [00:49<00:25, 655.86it/s]\r",
      "Loading Loci:  64%|██████▎   | 29237/45969 [00:49<00:25, 655.98it/s]\r",
      "Loading Loci:  64%|██████▎   | 29303/45969 [00:50<00:25, 655.19it/s]\r",
      "Loading Loci:  64%|██████▍   | 29369/45969 [00:50<00:25, 655.16it/s]\r",
      "Loading Loci:  64%|██████▍   | 29435/45969 [00:50<00:25, 655.16it/s]\r",
      "Loading Loci:  64%|██████▍   | 29501/45969 [00:50<00:25, 655.47it/s]\r",
      "Loading Loci:  64%|██████▍   | 29567/45969 [00:50<00:25, 655.28it/s]\r",
      "Loading Loci:  64%|██████▍   | 29633/45969 [00:50<00:24, 655.00it/s]\r",
      "Loading Loci:  65%|██████▍   | 29699/45969 [00:50<00:24, 655.14it/s]\r",
      "Loading Loci:  65%|██████▍   | 29765/45969 [00:50<00:24, 655.48it/s]\r",
      "Loading Loci:  65%|██████▍   | 29831/45969 [00:50<00:24, 655.43it/s]\r",
      "Loading Loci:  65%|██████▌   | 29897/45969 [00:50<00:24, 654.84it/s]\r",
      "Loading Loci:  65%|██████▌   | 29963/45969 [00:51<00:24, 655.03it/s]\r",
      "Loading Loci:  65%|██████▌   | 30029/45969 [00:51<00:24, 655.16it/s]\r",
      "Loading Loci:  65%|██████▌   | 30095/45969 [00:51<00:24, 655.61it/s]\r",
      "Loading Loci:  66%|██████▌   | 30161/45969 [00:51<00:24, 655.94it/s]\r",
      "Loading Loci:  66%|██████▌   | 30227/45969 [00:51<00:24, 646.65it/s]\r",
      "Loading Loci:  66%|██████▌   | 30292/45969 [00:51<00:24, 646.39it/s]\r",
      "Loading Loci:  66%|██████▌   | 30358/45969 [00:51<00:24, 648.82it/s]\r",
      "Loading Loci:  66%|██████▌   | 30424/45969 [00:51<00:23, 649.92it/s]\r",
      "Loading Loci:  66%|██████▋   | 30490/45969 [00:51<00:23, 651.16it/s]\r",
      "Loading Loci:  66%|██████▋   | 30556/45969 [00:51<00:23, 651.91it/s]\r",
      "Loading Loci:  67%|██████▋   | 30622/45969 [00:52<00:23, 653.03it/s]\r",
      "Loading Loci:  67%|██████▋   | 30688/45969 [00:52<00:23, 653.79it/s]\r",
      "Loading Loci:  67%|██████▋   | 30754/45969 [00:52<00:23, 654.98it/s]\r",
      "Loading Loci:  67%|██████▋   | 30820/45969 [00:52<00:23, 655.70it/s]\r",
      "Loading Loci:  67%|██████▋   | 30886/45969 [00:52<00:23, 655.48it/s]\r",
      "Loading Loci:  67%|██████▋   | 30952/45969 [00:52<00:22, 655.35it/s]\r",
      "Loading Loci:  67%|██████▋   | 31018/45969 [00:52<00:22, 655.73it/s]\r",
      "Loading Loci:  68%|██████▊   | 31084/45969 [00:52<00:26, 567.36it/s]\r",
      "Loading Loci:  68%|██████▊   | 31143/45969 [00:52<00:29, 508.01it/s]\r",
      "Loading Loci:  68%|██████▊   | 31197/45969 [00:53<00:31, 472.66it/s]\r",
      "Loading Loci:  68%|██████▊   | 31247/45969 [00:53<00:32, 451.46it/s]\r",
      "Loading Loci:  68%|██████▊   | 31294/45969 [00:53<00:33, 436.08it/s]\r",
      "Loading Loci:  68%|██████▊   | 31339/45969 [00:53<00:34, 426.50it/s]\r",
      "Loading Loci:  68%|██████▊   | 31383/45969 [00:53<00:34, 417.75it/s]\r",
      "Loading Loci:  68%|██████▊   | 31426/45969 [00:53<00:35, 412.31it/s]\r",
      "Loading Loci:  68%|██████▊   | 31468/45969 [00:53<00:35, 408.30it/s]\r",
      "Loading Loci:  69%|██████▊   | 31509/45969 [00:53<00:35, 405.75it/s]\r",
      "Loading Loci:  69%|██████▊   | 31550/45969 [00:53<00:35, 403.67it/s]\r",
      "Loading Loci:  69%|██████▊   | 31591/45969 [00:54<00:35, 402.38it/s]\r",
      "Loading Loci:  69%|██████▉   | 31632/45969 [00:54<00:35, 402.12it/s]\r",
      "Loading Loci:  69%|██████▉   | 31673/45969 [00:54<00:35, 399.99it/s]\r",
      "Loading Loci:  69%|██████▉   | 31714/45969 [00:54<00:35, 398.69it/s]\r",
      "Loading Loci:  69%|██████▉   | 31754/45969 [00:54<00:35, 397.25it/s]\r",
      "Loading Loci:  69%|██████▉   | 31795/45969 [00:54<00:35, 399.70it/s]\r",
      "Loading Loci:  69%|██████▉   | 31835/45969 [00:54<00:35, 397.01it/s]\r",
      "Loading Loci:  69%|██████▉   | 31875/45969 [00:54<00:35, 396.12it/s]\r",
      "Loading Loci:  69%|██████▉   | 31915/45969 [00:54<00:35, 396.13it/s]\r",
      "Loading Loci:  70%|██████▉   | 31955/45969 [00:54<00:35, 396.68it/s]\r",
      "Loading Loci:  70%|██████▉   | 31995/45969 [00:55<00:35, 396.08it/s]\r",
      "Loading Loci:  70%|██████▉   | 32035/45969 [00:55<00:35, 396.68it/s]\r",
      "Loading Loci:  70%|██████▉   | 32076/45969 [00:55<00:34, 398.39it/s]\r",
      "Loading Loci:  70%|██████▉   | 32116/45969 [00:55<00:34, 398.67it/s]\r",
      "Loading Loci:  70%|██████▉   | 32156/45969 [00:55<00:34, 397.53it/s]\r",
      "Loading Loci:  70%|███████   | 32196/45969 [00:55<00:35, 393.02it/s]\r",
      "Loading Loci:  70%|███████   | 32237/45969 [00:55<00:34, 395.48it/s]\r",
      "Loading Loci:  70%|███████   | 32277/45969 [00:55<00:34, 396.08it/s]\r",
      "Loading Loci:  70%|███████   | 32317/45969 [00:55<00:34, 396.96it/s]\r",
      "Loading Loci:  70%|███████   | 32357/45969 [00:55<00:34, 397.10it/s]\r",
      "Loading Loci:  70%|███████   | 32397/45969 [00:56<00:34, 397.96it/s]\r",
      "Loading Loci:  71%|███████   | 32437/45969 [00:56<00:34, 396.14it/s]\r",
      "Loading Loci:  71%|███████   | 32478/45969 [00:56<00:33, 397.74it/s]\r",
      "Loading Loci:  71%|███████   | 32518/45969 [00:56<00:33, 397.44it/s]\r",
      "Loading Loci:  71%|███████   | 32559/45969 [00:56<00:33, 399.63it/s]\r",
      "Loading Loci:  71%|███████   | 32599/45969 [00:56<00:33, 398.96it/s]\r",
      "Loading Loci:  71%|███████   | 32639/45969 [00:56<00:33, 399.24it/s]\r",
      "Loading Loci:  71%|███████   | 32679/45969 [00:56<00:33, 398.01it/s]\r",
      "Loading Loci:  71%|███████   | 32719/45969 [00:56<00:33, 397.89it/s]\r",
      "Loading Loci:  71%|███████▏  | 32759/45969 [00:57<00:33, 396.92it/s]\r",
      "Loading Loci:  71%|███████▏  | 32800/45969 [00:57<00:33, 398.05it/s]\r",
      "Loading Loci:  71%|███████▏  | 32841/45969 [00:57<00:32, 399.40it/s]\r",
      "Loading Loci:  72%|███████▏  | 32881/45969 [00:57<00:32, 398.86it/s]\r",
      "Loading Loci:  72%|███████▏  | 32922/45969 [00:57<00:32, 399.49it/s]\r",
      "Loading Loci:  72%|███████▏  | 32962/45969 [00:57<00:32, 398.17it/s]\r",
      "Loading Loci:  72%|███████▏  | 33003/45969 [00:57<00:32, 399.25it/s]\r",
      "Loading Loci:  72%|███████▏  | 33043/45969 [00:57<00:32, 397.83it/s]\r",
      "Loading Loci:  72%|███████▏  | 33083/45969 [00:57<00:32, 398.13it/s]\r",
      "Loading Loci:  72%|███████▏  | 33124/45969 [00:57<00:32, 398.77it/s]\r",
      "Loading Loci:  72%|███████▏  | 33165/45969 [00:58<00:32, 399.38it/s]\r",
      "Loading Loci:  72%|███████▏  | 33205/45969 [00:58<00:31, 399.04it/s]\r",
      "Loading Loci:  72%|███████▏  | 33245/45969 [00:58<00:31, 399.15it/s]\r",
      "Loading Loci:  72%|███████▏  | 33286/45969 [00:58<00:31, 400.23it/s]\r",
      "Loading Loci:  72%|███████▏  | 33327/45969 [00:58<00:31, 401.06it/s]\r",
      "Loading Loci:  73%|███████▎  | 33368/45969 [00:58<00:31, 399.21it/s]\r",
      "Loading Loci:  73%|███████▎  | 33408/45969 [00:58<00:31, 398.27it/s]\r",
      "Loading Loci:  73%|███████▎  | 33449/45969 [00:58<00:31, 398.96it/s]\r",
      "Loading Loci:  73%|███████▎  | 33489/45969 [00:58<00:31, 397.65it/s]\r",
      "Loading Loci:  73%|███████▎  | 33529/45969 [00:58<00:31, 397.55it/s]\r",
      "Loading Loci:  73%|███████▎  | 33569/45969 [00:59<00:31, 397.11it/s]\r",
      "Loading Loci:  73%|███████▎  | 33610/45969 [00:59<00:31, 398.31it/s]\r",
      "Loading Loci:  73%|███████▎  | 33650/45969 [00:59<00:30, 397.40it/s]\r",
      "Loading Loci:  73%|███████▎  | 33690/45969 [00:59<00:30, 397.69it/s]\r",
      "Loading Loci:  73%|███████▎  | 33731/45969 [00:59<00:30, 398.62it/s]\r",
      "Loading Loci:  73%|███████▎  | 33771/45969 [00:59<00:30, 397.02it/s]\r",
      "Loading Loci:  74%|███████▎  | 33811/45969 [00:59<00:30, 397.20it/s]\r",
      "Loading Loci:  74%|███████▎  | 33851/45969 [00:59<00:30, 396.58it/s]\r",
      "Loading Loci:  74%|███████▎  | 33891/45969 [00:59<00:30, 396.22it/s]\r",
      "Loading Loci:  74%|███████▍  | 33931/45969 [00:59<00:30, 393.55it/s]\r",
      "Loading Loci:  74%|███████▍  | 33971/45969 [01:00<00:30, 394.62it/s]\r",
      "Loading Loci:  74%|███████▍  | 34011/45969 [01:00<00:30, 396.05it/s]\r",
      "Loading Loci:  74%|███████▍  | 34052/45969 [01:00<00:29, 397.99it/s]\r",
      "Loading Loci:  74%|███████▍  | 34092/45969 [01:00<00:29, 398.28it/s]\r",
      "Loading Loci:  74%|███████▍  | 34133/45969 [01:00<00:29, 399.78it/s]\r",
      "Loading Loci:  74%|███████▍  | 34173/45969 [01:00<00:29, 399.01it/s]\r",
      "Loading Loci:  74%|███████▍  | 34214/45969 [01:00<00:29, 399.85it/s]\r",
      "Loading Loci:  75%|███████▍  | 34254/45969 [01:00<00:29, 398.86it/s]\r",
      "Loading Loci:  75%|███████▍  | 34295/45969 [01:00<00:29, 399.38it/s]\r",
      "Loading Loci:  75%|███████▍  | 34335/45969 [01:00<00:29, 397.38it/s]\r",
      "Loading Loci:  75%|███████▍  | 34375/45969 [01:01<00:29, 397.21it/s]\r",
      "Loading Loci:  75%|███████▍  | 34415/45969 [01:01<00:29, 397.14it/s]\r",
      "Loading Loci:  75%|███████▍  | 34455/45969 [01:01<00:28, 397.32it/s]\r",
      "Loading Loci:  75%|███████▌  | 34495/45969 [01:01<00:28, 396.70it/s]\r",
      "Loading Loci:  75%|███████▌  | 34535/45969 [01:01<00:28, 396.80it/s]\r",
      "Loading Loci:  75%|███████▌  | 34576/45969 [01:01<00:28, 398.69it/s]\r",
      "Loading Loci:  75%|███████▌  | 34617/45969 [01:01<00:28, 399.18it/s]\r",
      "Loading Loci:  75%|███████▌  | 34657/45969 [01:02<00:55, 204.55it/s]\r",
      "Loading Loci:  75%|███████▌  | 34698/45969 [01:02<00:46, 240.49it/s]\r",
      "Loading Loci:  76%|███████▌  | 34738/45969 [01:02<00:41, 272.72it/s]\r",
      "Loading Loci:  76%|███████▌  | 34779/45969 [01:02<00:37, 302.12it/s]\r",
      "Loading Loci:  76%|███████▌  | 34819/45969 [01:02<00:34, 325.23it/s]\r",
      "Loading Loci:  76%|███████▌  | 34859/45969 [01:02<00:32, 344.02it/s]\r",
      "Loading Loci:  76%|███████▌  | 34899/45969 [01:02<00:30, 358.67it/s]\r",
      "Loading Loci:  76%|███████▌  | 34939/45969 [01:02<00:29, 369.49it/s]\r",
      "Loading Loci:  76%|███████▌  | 34979/45969 [01:02<00:29, 376.71it/s]\r",
      "Loading Loci:  76%|███████▌  | 35019/45969 [01:02<00:28, 383.19it/s]\r",
      "Loading Loci:  76%|███████▋  | 35060/45969 [01:03<00:28, 389.15it/s]\r",
      "Loading Loci:  76%|███████▋  | 35100/45969 [01:03<00:27, 390.28it/s]\r",
      "Loading Loci:  76%|███████▋  | 35141/45969 [01:03<00:27, 393.26it/s]\r",
      "Loading Loci:  77%|███████▋  | 35181/45969 [01:03<00:27, 394.48it/s]\r",
      "Loading Loci:  77%|███████▋  | 35221/45969 [01:03<00:27, 395.92it/s]\r",
      "Loading Loci:  77%|███████▋  | 35261/45969 [01:03<00:27, 389.15it/s]\r",
      "Loading Loci:  77%|███████▋  | 35301/45969 [01:03<00:27, 392.19it/s]\r",
      "Loading Loci:  77%|███████▋  | 35341/45969 [01:03<00:26, 393.93it/s]\r",
      "Loading Loci:  77%|███████▋  | 35381/45969 [01:03<00:26, 395.36it/s]\r",
      "Loading Loci:  77%|███████▋  | 35421/45969 [01:04<00:26, 395.13it/s]\r",
      "Loading Loci:  77%|███████▋  | 35461/45969 [01:04<00:26, 394.70it/s]\r",
      "Loading Loci:  77%|███████▋  | 35501/45969 [01:04<00:26, 393.78it/s]\r",
      "Loading Loci:  77%|███████▋  | 35541/45969 [01:04<00:26, 394.24it/s]\r",
      "Loading Loci:  77%|███████▋  | 35582/45969 [01:04<00:26, 396.40it/s]\r",
      "Loading Loci:  77%|███████▋  | 35622/45969 [01:04<00:26, 394.12it/s]\r",
      "Loading Loci:  78%|███████▊  | 35662/45969 [01:04<00:26, 393.98it/s]\r",
      "Loading Loci:  78%|███████▊  | 35702/45969 [01:04<00:26, 392.48it/s]\r",
      "Loading Loci:  78%|███████▊  | 35742/45969 [01:04<00:25, 394.38it/s]\r",
      "Loading Loci:  78%|███████▊  | 35782/45969 [01:04<00:25, 395.48it/s]\r",
      "Loading Loci:  78%|███████▊  | 35822/45969 [01:05<00:25, 396.10it/s]\r",
      "Loading Loci:  78%|███████▊  | 35862/45969 [01:05<00:25, 395.08it/s]\r",
      "Loading Loci:  78%|███████▊  | 35902/45969 [01:05<00:25, 394.59it/s]\r",
      "Loading Loci:  78%|███████▊  | 35942/45969 [01:05<00:25, 392.55it/s]\r",
      "Loading Loci:  78%|███████▊  | 35982/45969 [01:05<00:25, 394.03it/s]\r",
      "Loading Loci:  78%|███████▊  | 36022/45969 [01:05<00:25, 395.71it/s]\r",
      "Loading Loci:  78%|███████▊  | 36062/45969 [01:05<00:24, 396.44it/s]\r",
      "Loading Loci:  79%|███████▊  | 36102/45969 [01:05<00:24, 395.46it/s]\r",
      "Loading Loci:  79%|███████▊  | 36142/45969 [01:05<00:24, 396.16it/s]\r",
      "Loading Loci:  79%|███████▊  | 36182/45969 [01:05<00:24, 396.48it/s]\r",
      "Loading Loci:  79%|███████▉  | 36246/45969 [01:06<00:20, 468.92it/s]\r",
      "Loading Loci:  79%|███████▉  | 36312/45969 [01:06<00:18, 525.10it/s]\r",
      "Loading Loci:  79%|███████▉  | 36378/45969 [01:06<00:17, 564.16it/s]\r",
      "Loading Loci:  79%|███████▉  | 36444/45969 [01:06<00:16, 591.92it/s]\r",
      "Loading Loci:  79%|███████▉  | 36510/45969 [01:06<00:15, 610.73it/s]\r",
      "Loading Loci:  80%|███████▉  | 36576/45969 [01:06<00:15, 624.04it/s]\r",
      "Loading Loci:  80%|███████▉  | 36642/45969 [01:06<00:14, 633.37it/s]\r",
      "Loading Loci:  80%|███████▉  | 36708/45969 [01:06<00:14, 639.64it/s]\r",
      "Loading Loci:  80%|███████▉  | 36774/45969 [01:06<00:14, 644.47it/s]\r",
      "Loading Loci:  80%|████████  | 36840/45969 [01:06<00:14, 648.05it/s]\r",
      "Loading Loci:  80%|████████  | 36906/45969 [01:07<00:13, 649.57it/s]\r",
      "Loading Loci:  80%|████████  | 36972/45969 [01:07<00:13, 651.78it/s]\r",
      "Loading Loci:  81%|████████  | 37038/45969 [01:07<00:13, 652.26it/s]\r",
      "Loading Loci:  81%|████████  | 37104/45969 [01:07<00:13, 653.39it/s]\r",
      "Loading Loci:  81%|████████  | 37170/45969 [01:07<00:13, 653.01it/s]\r",
      "Loading Loci:  81%|████████  | 37236/45969 [01:07<00:13, 653.35it/s]\r",
      "Loading Loci:  81%|████████  | 37302/45969 [01:07<00:13, 653.52it/s]\r",
      "Loading Loci:  81%|████████▏ | 37368/45969 [01:07<00:13, 653.44it/s]\r",
      "Loading Loci:  81%|████████▏ | 37434/45969 [01:07<00:13, 653.53it/s]\r",
      "Loading Loci:  82%|████████▏ | 37500/45969 [01:07<00:12, 654.26it/s]\r",
      "Loading Loci:  82%|████████▏ | 37566/45969 [01:08<00:12, 654.25it/s]\r",
      "Loading Loci:  82%|████████▏ | 37632/45969 [01:08<00:12, 653.68it/s]\r",
      "Loading Loci:  82%|████████▏ | 37698/45969 [01:08<00:12, 653.99it/s]\r",
      "Loading Loci:  82%|████████▏ | 37764/45969 [01:08<00:12, 654.78it/s]\r",
      "Loading Loci:  82%|████████▏ | 37830/45969 [01:08<00:12, 655.47it/s]\r",
      "Loading Loci:  82%|████████▏ | 37896/45969 [01:08<00:12, 654.46it/s]\r",
      "Loading Loci:  83%|████████▎ | 37962/45969 [01:08<00:12, 654.20it/s]\r",
      "Loading Loci:  83%|████████▎ | 38028/45969 [01:08<00:12, 653.75it/s]\r",
      "Loading Loci:  83%|████████▎ | 38094/45969 [01:08<00:12, 653.66it/s]\r",
      "Loading Loci:  83%|████████▎ | 38160/45969 [01:08<00:11, 653.08it/s]\r",
      "Loading Loci:  83%|████████▎ | 38226/45969 [01:09<00:11, 652.56it/s]\r",
      "Loading Loci:  83%|████████▎ | 38292/45969 [01:09<00:11, 651.66it/s]\r",
      "Loading Loci:  83%|████████▎ | 38358/45969 [01:09<00:11, 652.27it/s]\r",
      "Loading Loci:  84%|████████▎ | 38424/45969 [01:09<00:11, 651.54it/s]\r",
      "Loading Loci:  84%|████████▎ | 38490/45969 [01:09<00:11, 651.56it/s]\r",
      "Loading Loci:  84%|████████▍ | 38556/45969 [01:09<00:11, 651.02it/s]\r",
      "Loading Loci:  84%|████████▍ | 38622/45969 [01:09<00:11, 652.05it/s]\r",
      "Loading Loci:  84%|████████▍ | 38688/45969 [01:09<00:11, 650.90it/s]\r",
      "Loading Loci:  84%|████████▍ | 38754/45969 [01:09<00:11, 648.96it/s]\r",
      "Loading Loci:  84%|████████▍ | 38820/45969 [01:09<00:11, 649.77it/s]\r",
      "Loading Loci:  85%|████████▍ | 38885/45969 [01:10<00:10, 649.49it/s]\r",
      "Loading Loci:  85%|████████▍ | 38951/45969 [01:10<00:10, 649.92it/s]\r",
      "Loading Loci:  85%|████████▍ | 39016/45969 [01:10<00:10, 647.65it/s]\r",
      "Loading Loci:  85%|████████▌ | 39081/45969 [01:10<00:10, 646.53it/s]\r",
      "Loading Loci:  85%|████████▌ | 39146/45969 [01:10<00:10, 645.33it/s]\r",
      "Loading Loci:  85%|████████▌ | 39211/45969 [01:10<00:10, 646.66it/s]\r",
      "Loading Loci:  85%|████████▌ | 39276/45969 [01:10<00:10, 647.45it/s]\r",
      "Loading Loci:  86%|████████▌ | 39342/45969 [01:10<00:10, 648.72it/s]\r",
      "Loading Loci:  86%|████████▌ | 39407/45969 [01:10<00:10, 648.66it/s]\r",
      "Loading Loci:  86%|████████▌ | 39473/45969 [01:10<00:10, 649.29it/s]\r",
      "Loading Loci:  86%|████████▌ | 39539/45969 [01:11<00:09, 649.70it/s]\r",
      "Loading Loci:  86%|████████▌ | 39604/45969 [01:11<00:09, 649.04it/s]\r",
      "Loading Loci:  86%|████████▋ | 39670/45969 [01:11<00:09, 649.54it/s]\r",
      "Loading Loci:  86%|████████▋ | 39735/45969 [01:11<00:09, 649.62it/s]\r",
      "Loading Loci:  87%|████████▋ | 39801/45969 [01:11<00:09, 649.79it/s]\r",
      "Loading Loci:  87%|████████▋ | 39866/45969 [01:11<00:09, 649.49it/s]\r",
      "Loading Loci:  87%|████████▋ | 39931/45969 [01:11<00:09, 647.83it/s]\r",
      "Loading Loci:  87%|████████▋ | 39996/45969 [01:11<00:09, 631.10it/s]\r",
      "Loading Loci:  87%|████████▋ | 40061/45969 [01:11<00:09, 634.10it/s]\r",
      "Loading Loci:  87%|████████▋ | 40126/45969 [01:12<00:09, 638.03it/s]\r",
      "Loading Loci:  87%|████████▋ | 40192/45969 [01:12<00:08, 642.59it/s]\r",
      "Loading Loci:  88%|████████▊ | 40257/45969 [01:12<00:08, 644.63it/s]\r",
      "Loading Loci:  88%|████████▊ | 40323/45969 [01:12<00:08, 646.41it/s]\r",
      "Loading Loci:  88%|████████▊ | 40389/45969 [01:12<00:08, 647.74it/s]\r",
      "Loading Loci:  88%|████████▊ | 40455/45969 [01:12<00:08, 648.68it/s]\r",
      "Loading Loci:  88%|████████▊ | 40521/45969 [01:12<00:08, 649.55it/s]\r",
      "Loading Loci:  88%|████████▊ | 40587/45969 [01:12<00:08, 650.49it/s]\r",
      "Loading Loci:  88%|████████▊ | 40653/45969 [01:12<00:08, 650.46it/s]\r",
      "Loading Loci:  89%|████████▊ | 40719/45969 [01:12<00:08, 650.40it/s]\r",
      "Loading Loci:  89%|████████▊ | 40785/45969 [01:13<00:07, 650.38it/s]\r",
      "Loading Loci:  89%|████████▉ | 40851/45969 [01:13<00:07, 649.55it/s]\r",
      "Loading Loci:  89%|████████▉ | 40916/45969 [01:13<00:07, 649.18it/s]\r",
      "Loading Loci:  89%|████████▉ | 40981/45969 [01:13<00:07, 649.34it/s]\r",
      "Loading Loci:  89%|████████▉ | 41046/45969 [01:13<00:07, 649.35it/s]\r",
      "Loading Loci:  89%|████████▉ | 41111/45969 [01:13<00:07, 649.30it/s]\r",
      "Loading Loci:  90%|████████▉ | 41177/45969 [01:13<00:07, 649.91it/s]\r",
      "Loading Loci:  90%|████████▉ | 41242/45969 [01:13<00:07, 649.03it/s]\r",
      "Loading Loci:  90%|████████▉ | 41307/45969 [01:13<00:07, 649.25it/s]\r",
      "Loading Loci:  90%|████████▉ | 41372/45969 [01:13<00:07, 648.31it/s]\r",
      "Loading Loci:  90%|█████████ | 41438/45969 [01:14<00:06, 648.99it/s]\r",
      "Loading Loci:  90%|█████████ | 41504/45969 [01:14<00:06, 649.55it/s]\r",
      "Loading Loci:  90%|█████████ | 41570/45969 [01:14<00:06, 650.18it/s]\r",
      "Loading Loci:  91%|█████████ | 41636/45969 [01:14<00:06, 649.96it/s]\r",
      "Loading Loci:  91%|█████████ | 41702/45969 [01:14<00:06, 651.36it/s]\r",
      "Loading Loci:  91%|█████████ | 41768/45969 [01:14<00:06, 650.63it/s]\r",
      "Loading Loci:  91%|█████████ | 41834/45969 [01:14<00:06, 650.18it/s]\r",
      "Loading Loci:  91%|█████████ | 41900/45969 [01:14<00:06, 649.67it/s]\r",
      "Loading Loci:  91%|█████████▏| 41966/45969 [01:14<00:06, 650.18it/s]\r",
      "Loading Loci:  91%|█████████▏| 42032/45969 [01:14<00:06, 649.53it/s]\r",
      "Loading Loci:  92%|█████████▏| 42098/45969 [01:15<00:05, 649.78it/s]\r",
      "Loading Loci:  92%|█████████▏| 42164/45969 [01:15<00:05, 650.07it/s]\r",
      "Loading Loci:  92%|█████████▏| 42230/45969 [01:15<00:05, 650.00it/s]\r",
      "Loading Loci:  92%|█████████▏| 42296/45969 [01:15<00:05, 650.10it/s]\r",
      "Loading Loci:  92%|█████████▏| 42362/45969 [01:15<00:05, 650.63it/s]\r",
      "Loading Loci:  92%|█████████▏| 42428/45969 [01:15<00:05, 651.63it/s]\r",
      "Loading Loci:  92%|█████████▏| 42494/45969 [01:15<00:05, 651.18it/s]\r",
      "Loading Loci:  93%|█████████▎| 42560/45969 [01:15<00:05, 651.29it/s]\r",
      "Loading Loci:  93%|█████████▎| 42626/45969 [01:15<00:05, 650.71it/s]\r",
      "Loading Loci:  93%|█████████▎| 42692/45969 [01:15<00:05, 650.28it/s]\r",
      "Loading Loci:  93%|█████████▎| 42758/45969 [01:16<00:04, 647.98it/s]\r",
      "Loading Loci:  93%|█████████▎| 42823/45969 [01:16<00:04, 648.55it/s]\r",
      "Loading Loci:  93%|█████████▎| 42888/45969 [01:16<00:04, 648.74it/s]\r",
      "Loading Loci:  93%|█████████▎| 42954/45969 [01:16<00:04, 649.54it/s]\r",
      "Loading Loci:  94%|█████████▎| 43020/45969 [01:16<00:04, 650.49it/s]\r",
      "Loading Loci:  94%|█████████▎| 43086/45969 [01:16<00:04, 649.92it/s]\r",
      "Loading Loci:  94%|█████████▍| 43151/45969 [01:16<00:04, 649.37it/s]\r",
      "Loading Loci:  94%|█████████▍| 43216/45969 [01:16<00:04, 649.31it/s]\r",
      "Loading Loci:  94%|█████████▍| 43281/45969 [01:16<00:04, 647.59it/s]\r",
      "Loading Loci:  94%|█████████▍| 43346/45969 [01:16<00:04, 647.88it/s]\r",
      "Loading Loci:  94%|█████████▍| 43412/45969 [01:17<00:03, 649.66it/s]\r",
      "Loading Loci:  95%|█████████▍| 43478/45969 [01:17<00:03, 650.96it/s]\r",
      "Loading Loci:  95%|█████████▍| 43544/45969 [01:17<00:03, 650.54it/s]\r",
      "Loading Loci:  95%|█████████▍| 43610/45969 [01:17<00:03, 650.58it/s]\r",
      "Loading Loci:  95%|█████████▌| 43676/45969 [01:17<00:03, 649.00it/s]\r",
      "Loading Loci:  95%|█████████▌| 43742/45969 [01:17<00:03, 649.77it/s]\r",
      "Loading Loci:  95%|█████████▌| 43807/45969 [01:17<00:03, 649.10it/s]\r",
      "Loading Loci:  95%|█████████▌| 43872/45969 [01:17<00:03, 649.11it/s]\r",
      "Loading Loci:  96%|█████████▌| 43937/45969 [01:17<00:03, 648.97it/s]\r",
      "Loading Loci:  96%|█████████▌| 44003/45969 [01:17<00:03, 649.41it/s]\r",
      "Loading Loci:  96%|█████████▌| 44068/45969 [01:18<00:02, 649.41it/s]\r",
      "Loading Loci:  96%|█████████▌| 44133/45969 [01:18<00:02, 649.41it/s]\r",
      "Loading Loci:  96%|█████████▌| 44199/45969 [01:18<00:02, 650.82it/s]\r",
      "Loading Loci:  96%|█████████▋| 44265/45969 [01:18<00:02, 650.66it/s]\r",
      "Loading Loci:  96%|█████████▋| 44331/45969 [01:18<00:02, 651.02it/s]\r",
      "Loading Loci:  97%|█████████▋| 44397/45969 [01:18<00:02, 650.96it/s]\r",
      "Loading Loci:  97%|█████████▋| 44463/45969 [01:18<00:02, 649.17it/s]\r",
      "Loading Loci:  97%|█████████▋| 44529/45969 [01:18<00:02, 651.27it/s]\r",
      "Loading Loci:  97%|█████████▋| 44595/45969 [01:18<00:02, 652.52it/s]\r",
      "Loading Loci:  97%|█████████▋| 44661/45969 [01:18<00:02, 651.92it/s]\r",
      "Loading Loci:  97%|█████████▋| 44727/45969 [01:19<00:01, 652.27it/s]\r",
      "Loading Loci:  97%|█████████▋| 44793/45969 [01:19<00:01, 652.81it/s]\r",
      "Loading Loci:  98%|█████████▊| 44859/45969 [01:19<00:01, 652.29it/s]\r",
      "Loading Loci:  98%|█████████▊| 44925/45969 [01:19<00:01, 652.34it/s]\r",
      "Loading Loci:  98%|█████████▊| 44991/45969 [01:19<00:01, 651.93it/s]\r",
      "Loading Loci:  98%|█████████▊| 45057/45969 [01:19<00:01, 653.51it/s]\r",
      "Loading Loci:  98%|█████████▊| 45123/45969 [01:19<00:01, 653.76it/s]\r",
      "Loading Loci:  98%|█████████▊| 45189/45969 [01:19<00:01, 654.04it/s]\r",
      "Loading Loci:  98%|█████████▊| 45255/45969 [01:19<00:01, 652.82it/s]\r",
      "Loading Loci:  99%|█████████▊| 45321/45969 [01:19<00:01, 645.91it/s]\r",
      "Loading Loci:  99%|█████████▊| 45386/45969 [01:20<00:00, 646.88it/s]\r",
      "Loading Loci:  99%|█████████▉| 45452/45969 [01:20<00:00, 648.51it/s]\r",
      "Loading Loci:  99%|█████████▉| 45518/45969 [01:20<00:00, 649.25it/s]\r",
      "Loading Loci:  99%|█████████▉| 45584/45969 [01:20<00:00, 650.90it/s]\r",
      "Loading Loci:  99%|█████████▉| 45650/45969 [01:20<00:00, 652.15it/s]\r",
      "Loading Loci:  99%|█████████▉| 45716/45969 [01:20<00:00, 651.12it/s]\r",
      "Loading Loci: 100%|█████████▉| 45782/45969 [01:20<00:00, 651.45it/s]\r",
      "Loading Loci: 100%|█████████▉| 45848/45969 [01:20<00:00, 651.36it/s]\r",
      "Loading Loci: 100%|█████████▉| 45914/45969 [01:20<00:00, 652.03it/s]\r",
      "Loading Loci: 100%|██████████| 45969/45969 [01:20<00:00, 567.60it/s]\n"
     ]
    },
    {
     "name": "stderr",
     "output_type": "stream",
     "text": [
      "\r",
      "Loading Loci:   0%|          | 0/5148 [00:00<?, ?it/s]\r",
      "Loading Loci:   1%|          | 42/5148 [00:00<00:12, 414.48it/s]\r",
      "Loading Loci:   2%|▏         | 86/5148 [00:00<00:11, 428.54it/s]\r",
      "Loading Loci:   3%|▎         | 130/5148 [00:00<00:11, 430.43it/s]\r",
      "Loading Loci:   3%|▎         | 175/5148 [00:00<00:11, 434.23it/s]\r",
      "Loading Loci:   4%|▍         | 219/5148 [00:00<00:11, 435.00it/s]\r",
      "Loading Loci:   5%|▌         | 264/5148 [00:00<00:11, 437.34it/s]\r",
      "Loading Loci:   6%|▌         | 308/5148 [00:00<00:11, 436.29it/s]\r",
      "Loading Loci:   7%|▋         | 352/5148 [00:00<00:11, 435.69it/s]\r",
      "Loading Loci:   8%|▊         | 397/5148 [00:00<00:10, 437.11it/s]\r",
      "Loading Loci:   9%|▊         | 441/5148 [00:01<00:10, 437.37it/s]\r",
      "Loading Loci:   9%|▉         | 485/5148 [00:01<00:10, 438.09it/s]\r",
      "Loading Loci:  10%|█         | 529/5148 [00:01<00:10, 438.18it/s]\r",
      "Loading Loci:  11%|█         | 573/5148 [00:01<00:10, 438.13it/s]\r",
      "Loading Loci:  12%|█▏        | 617/5148 [00:01<00:10, 436.66it/s]\r",
      "Loading Loci:  13%|█▎        | 661/5148 [00:01<00:10, 436.76it/s]\r",
      "Loading Loci:  14%|█▎        | 705/5148 [00:01<00:10, 437.66it/s]\r",
      "Loading Loci:  15%|█▍        | 749/5148 [00:01<00:10, 438.12it/s]\r",
      "Loading Loci:  15%|█▌        | 794/5148 [00:01<00:09, 438.60it/s]\r",
      "Loading Loci:  16%|█▋        | 838/5148 [00:01<00:09, 437.52it/s]\r",
      "Loading Loci:  17%|█▋        | 883/5148 [00:02<00:09, 439.34it/s]\r",
      "Loading Loci:  18%|█▊        | 927/5148 [00:02<00:09, 438.98it/s]\r",
      "Loading Loci:  19%|█▉        | 971/5148 [00:02<00:09, 438.54it/s]\r",
      "Loading Loci:  20%|█▉        | 1015/5148 [00:02<00:09, 438.05it/s]\r",
      "Loading Loci:  21%|██        | 1059/5148 [00:02<00:09, 437.42it/s]\r",
      "Loading Loci:  21%|██▏       | 1103/5148 [00:02<00:09, 437.53it/s]\r",
      "Loading Loci:  22%|██▏       | 1147/5148 [00:02<00:09, 437.73it/s]\r",
      "Loading Loci:  23%|██▎       | 1191/5148 [00:02<00:09, 437.20it/s]\r",
      "Loading Loci:  24%|██▍       | 1235/5148 [00:02<00:08, 437.46it/s]\r",
      "Loading Loci:  25%|██▍       | 1279/5148 [00:02<00:08, 436.84it/s]\r",
      "Loading Loci:  26%|██▌       | 1323/5148 [00:03<00:08, 437.54it/s]\r",
      "Loading Loci:  27%|██▋       | 1367/5148 [00:03<00:08, 436.72it/s]\r",
      "Loading Loci:  27%|██▋       | 1411/5148 [00:03<00:08, 437.57it/s]\r",
      "Loading Loci:  28%|██▊       | 1455/5148 [00:03<00:08, 438.22it/s]\r",
      "Loading Loci:  29%|██▉       | 1500/5148 [00:03<00:08, 439.49it/s]\r",
      "Loading Loci:  30%|███       | 1545/5148 [00:03<00:08, 440.57it/s]\r",
      "Loading Loci:  31%|███       | 1590/5148 [00:03<00:08, 439.18it/s]\r",
      "Loading Loci:  32%|███▏      | 1635/5148 [00:03<00:07, 440.32it/s]\r",
      "Loading Loci:  33%|███▎      | 1680/5148 [00:03<00:07, 439.83it/s]\r",
      "Loading Loci:  33%|███▎      | 1724/5148 [00:03<00:07, 439.77it/s]\r",
      "Loading Loci:  34%|███▍      | 1768/5148 [00:04<00:07, 439.56it/s]\r",
      "Loading Loci:  35%|███▌      | 1813/5148 [00:04<00:07, 439.84it/s]\r",
      "Loading Loci:  36%|███▌      | 1857/5148 [00:04<00:07, 439.12it/s]\r",
      "Loading Loci:  37%|███▋      | 1902/5148 [00:04<00:07, 439.33it/s]\r",
      "Loading Loci:  38%|███▊      | 1947/5148 [00:04<00:07, 440.00it/s]\r",
      "Loading Loci:  39%|███▊      | 1991/5148 [00:04<00:07, 439.58it/s]\r",
      "Loading Loci:  40%|███▉      | 2035/5148 [00:04<00:07, 438.40it/s]\r",
      "Loading Loci:  40%|████      | 2079/5148 [00:04<00:07, 438.11it/s]\r",
      "Loading Loci:  41%|████      | 2123/5148 [00:04<00:06, 438.27it/s]\r",
      "Loading Loci:  42%|████▏     | 2168/5148 [00:04<00:06, 438.64it/s]\r",
      "Loading Loci:  43%|████▎     | 2212/5148 [00:05<00:06, 436.71it/s]\r",
      "Loading Loci:  44%|████▍     | 2256/5148 [00:05<00:06, 436.48it/s]\r",
      "Loading Loci:  45%|████▍     | 2301/5148 [00:05<00:06, 437.97it/s]\r",
      "Loading Loci:  46%|████▌     | 2345/5148 [00:05<00:06, 436.80it/s]\r",
      "Loading Loci:  46%|████▋     | 2389/5148 [00:05<00:06, 435.92it/s]\r",
      "Loading Loci:  47%|████▋     | 2433/5148 [00:05<00:06, 435.56it/s]\r",
      "Loading Loci:  48%|████▊     | 2477/5148 [00:05<00:06, 435.89it/s]\r",
      "Loading Loci:  49%|████▉     | 2521/5148 [00:05<00:06, 435.95it/s]\r",
      "Loading Loci:  50%|████▉     | 2565/5148 [00:05<00:05, 435.58it/s]\r",
      "Loading Loci:  51%|█████     | 2609/5148 [00:05<00:05, 435.24it/s]\r",
      "Loading Loci:  52%|█████▏    | 2653/5148 [00:06<00:05, 436.29it/s]\r",
      "Loading Loci:  52%|█████▏    | 2697/5148 [00:06<00:05, 435.70it/s]\r",
      "Loading Loci:  53%|█████▎    | 2741/5148 [00:06<00:05, 435.30it/s]\r",
      "Loading Loci:  54%|█████▍    | 2785/5148 [00:06<00:05, 435.86it/s]\r",
      "Loading Loci:  55%|█████▍    | 2830/5148 [00:06<00:05, 437.41it/s]\r",
      "Loading Loci:  56%|█████▌    | 2874/5148 [00:06<00:05, 437.87it/s]\r",
      "Loading Loci:  57%|█████▋    | 2919/5148 [00:06<00:05, 439.10it/s]\r",
      "Loading Loci:  58%|█████▊    | 2963/5148 [00:06<00:05, 436.58it/s]\r",
      "Loading Loci:  58%|█████▊    | 3007/5148 [00:06<00:04, 436.53it/s]\r",
      "Loading Loci:  59%|█████▉    | 3051/5148 [00:06<00:04, 435.82it/s]\r",
      "Loading Loci:  60%|██████    | 3095/5148 [00:07<00:04, 435.24it/s]\r",
      "Loading Loci:  61%|██████    | 3139/5148 [00:07<00:04, 434.76it/s]\r",
      "Loading Loci:  62%|██████▏   | 3183/5148 [00:07<00:04, 434.83it/s]\r",
      "Loading Loci:  63%|██████▎   | 3227/5148 [00:07<00:04, 434.46it/s]\r",
      "Loading Loci:  64%|██████▎   | 3271/5148 [00:07<00:04, 434.78it/s]\r",
      "Loading Loci:  64%|██████▍   | 3315/5148 [00:07<00:04, 436.11it/s]\r",
      "Loading Loci:  65%|██████▌   | 3359/5148 [00:07<00:04, 434.86it/s]\r",
      "Loading Loci:  66%|██████▌   | 3403/5148 [00:07<00:04, 434.53it/s]\r",
      "Loading Loci:  67%|██████▋   | 3447/5148 [00:07<00:04, 420.78it/s]\r",
      "Loading Loci:  68%|██████▊   | 3491/5148 [00:07<00:03, 425.63it/s]\r",
      "Loading Loci:  69%|██████▊   | 3535/5148 [00:08<00:03, 429.39it/s]\r",
      "Loading Loci:  70%|██████▉   | 3579/5148 [00:08<00:03, 430.92it/s]\r",
      "Loading Loci:  70%|███████   | 3623/5148 [00:08<00:03, 431.32it/s]\r",
      "Loading Loci:  71%|███████   | 3667/5148 [00:08<00:03, 431.46it/s]\r",
      "Loading Loci:  72%|███████▏  | 3711/5148 [00:08<00:03, 432.96it/s]\r",
      "Loading Loci:  73%|███████▎  | 3755/5148 [00:08<00:03, 433.41it/s]\r",
      "Loading Loci:  74%|███████▍  | 3799/5148 [00:08<00:03, 433.95it/s]\r",
      "Loading Loci:  75%|███████▍  | 3843/5148 [00:08<00:02, 435.42it/s]\r",
      "Loading Loci:  76%|███████▌  | 3887/5148 [00:08<00:02, 436.63it/s]\r",
      "Loading Loci:  76%|███████▋  | 3931/5148 [00:09<00:02, 435.54it/s]\r",
      "Loading Loci:  77%|███████▋  | 3975/5148 [00:09<00:02, 435.09it/s]\r",
      "Loading Loci:  78%|███████▊  | 4019/5148 [00:09<00:02, 433.73it/s]\r",
      "Loading Loci:  79%|███████▉  | 4063/5148 [00:09<00:02, 433.94it/s]\r",
      "Loading Loci:  80%|███████▉  | 4107/5148 [00:09<00:02, 432.46it/s]\r",
      "Loading Loci:  81%|████████  | 4151/5148 [00:09<00:02, 432.94it/s]\r",
      "Loading Loci:  81%|████████▏ | 4195/5148 [00:09<00:02, 432.93it/s]\r",
      "Loading Loci:  82%|████████▏ | 4239/5148 [00:09<00:02, 433.73it/s]\r",
      "Loading Loci:  83%|████████▎ | 4283/5148 [00:09<00:01, 434.68it/s]\r",
      "Loading Loci:  84%|████████▍ | 4327/5148 [00:09<00:01, 435.38it/s]\r",
      "Loading Loci:  85%|████████▍ | 4371/5148 [00:10<00:01, 435.59it/s]\r",
      "Loading Loci:  86%|████████▌ | 4415/5148 [00:10<00:01, 435.05it/s]\r",
      "Loading Loci:  87%|████████▋ | 4459/5148 [00:10<00:01, 433.60it/s]\r",
      "Loading Loci:  87%|████████▋ | 4503/5148 [00:10<00:01, 431.67it/s]\r",
      "Loading Loci:  88%|████████▊ | 4547/5148 [00:10<00:01, 432.94it/s]\r",
      "Loading Loci:  89%|████████▉ | 4591/5148 [00:10<00:01, 430.58it/s]\r",
      "Loading Loci:  90%|█████████ | 4635/5148 [00:10<00:01, 431.40it/s]\r",
      "Loading Loci:  91%|█████████ | 4679/5148 [00:10<00:01, 431.91it/s]\r",
      "Loading Loci:  92%|█████████▏| 4723/5148 [00:10<00:00, 431.50it/s]\r",
      "Loading Loci:  93%|█████████▎| 4767/5148 [00:10<00:00, 431.56it/s]\r",
      "Loading Loci:  93%|█████████▎| 4811/5148 [00:11<00:00, 432.29it/s]\r",
      "Loading Loci:  94%|█████████▍| 4857/5148 [00:11<00:00, 438.76it/s]\r",
      "Loading Loci:  96%|█████████▌| 4929/5148 [00:11<00:00, 520.06it/s]\r",
      "Loading Loci:  97%|█████████▋| 5000/5148 [00:11<00:00, 575.98it/s]\r",
      "Loading Loci:  99%|█████████▊| 5072/5148 [00:11<00:00, 616.27it/s]\r",
      "Loading Loci: 100%|█████████▉| 5143/5148 [00:11<00:00, 642.00it/s]\r",
      "Loading Loci: 100%|██████████| 5148/5148 [00:11<00:00, 445.46it/s]\n"
     ]
    },
    {
     "name": "stdout",
     "output_type": "stream",
     "text": [
      "Training Set Size:  45969\n",
      "Validation Set Size:  5148\n",
      "Epoch\tIteration\tTraining Time\tValidation Time\tTraining MNLL\tTraining Count MSE\tValidation MNLL\tValidation Profile Pearson\tValidation Count Pearson\tValidation Count MSE\tSaved?\n",
      "0\t0\t4.6008\t4.0908\t559.0572\t27.3077\t572.4651\t0.006506731\t-0.27866527\t16.0063\tTrue\n",
      "0\t100\t10.8667\t3.695\t551.1813\t4.1651\t311.0575\t0.07813424\t0.10038188\t1.6533\tTrue\n",
      "0\t200\t10.4749\t3.6794\t478.5148\t0.5436\t284.4794\t0.23859434\t0.13161778\t1.1935\tTrue\n",
      "0\t300\t10.454\t4.0222\t417.9756\t0.5297\t259.9124\t0.3404014\t0.10733794\t0.7302\tTrue\n",
      "0\t400\t10.8238\t3.6792\t413.8036\t0.5095\t253.5911\t0.36618096\t0.37802696\t0.954\tTrue\n",
      "0\t500\t10.4698\t3.6873\t392.5204\t0.4287\t250.3475\t0.37777773\t0.44328076\t0.8554\tTrue\n",
      "0\t600\t10.4805\t3.6637\t383.9519\t0.4203\t249.6323\t0.3829707\t0.46428233\t0.8709\tTrue\n",
      "0\t700\t10.478\t3.6763\t410.6848\t0.4174\t247.821\t0.3890268\t0.49638587\t0.9113\tTrue\n",
      "1\t800\t5.5563\t3.672\t425.1518\t0.4097\t247.0981\t0.39271638\t0.49701935\t0.8789\tTrue\n",
      "1\t900\t10.4793\t3.6649\t459.5408\t0.4332\t246.524\t0.39510086\t0.5102645\t1.0453\tTrue\n",
      "1\t1000\t10.4676\t3.6836\t404.1223\t0.484\t246.8672\t0.39544728\t0.52863514\t0.6697\tTrue\n",
      "1\t1100\t10.5033\t3.7104\t373.2295\t0.392\t245.5878\t0.3990001\t0.5298307\t0.8788\tTrue\n",
      "1\t1200\t10.5227\t3.6966\t408.4557\t0.3653\t245.5589\t0.39875913\t0.52667654\t1.0183\tFalse\n",
      "1\t1300\t10.48\t3.6727\t402.1743\t0.33\t244.9477\t0.40154436\t0.5243325\t0.9061\tTrue\n",
      "1\t1400\t10.4669\t3.6566\t448.4468\t0.3717\t245.1589\t0.4022653\t0.5389829\t1.143\tFalse\n",
      "2\t1500\t4.2619\t3.6701\t431.1514\t0.4787\t245.466\t0.4020632\t0.55216885\t0.7842\tFalse\n",
      "2\t1600\t10.458\t3.6726\t418.9275\t0.4067\t244.7137\t0.40328103\t0.5400903\t0.9534\tTrue\n",
      "2\t1700\t10.4854\t3.6744\t370.3137\t0.2615\t244.337\t0.40495428\t0.5613861\t1.0578\tTrue\n",
      "2\t1800\t10.4741\t3.7544\t435.0813\t0.502\t244.4047\t0.40460083\t0.58723253\t0.5584\tTrue\n",
      "2\t1900\t10.5712\t3.7011\t430.1746\t0.3806\t243.845\t0.4052833\t0.5674895\t0.847\tTrue\n",
      "2\t2000\t10.5116\t3.695\t376.4359\t0.3672\t243.8988\t0.40528652\t0.58684117\t0.8108\tFalse\n",
      "2\t2100\t10.4929\t3.6772\t381.3969\t0.2848\t243.6748\t0.4069161\t0.5918302\t0.7431\tTrue\n",
      "3\t2200\t2.9755\t3.6679\t403.2264\t0.3504\t243.4312\t0.40787485\t0.5899867\t0.8718\tTrue\n",
      "3\t2300\t10.4818\t3.6529\t382.8427\t0.2944\t243.4993\t0.4074275\t0.581878\t0.7826\tTrue\n",
      "3\t2400\t10.4992\t3.6906\t406.4609\t0.2301\t243.415\t0.4081077\t0.5859028\t0.9724\tFalse\n",
      "3\t2500\t10.5337\t3.6971\t378.5853\t0.2706\t243.5025\t0.40711436\t0.59213823\t0.8645\tFalse\n",
      "3\t2600\t10.5273\t3.6735\t384.4059\t0.2416\t243.2885\t0.40794882\t0.60101366\t0.8575\tTrue\n",
      "3\t2700\t10.5089\t3.661\t444.0764\t0.3043\t243.4172\t0.4074986\t0.59379923\t1.0028\tFalse\n",
      "3\t2800\t10.4959\t3.6939\t432.6374\t0.3941\t242.8786\t0.40913767\t0.6124807\t0.8128\tTrue\n",
      "4\t2900\t1.6892\t3.6775\t393.9234\t0.306\t243.0248\t0.4091461\t0.6127114\t0.8379\tFalse\n",
      "4\t3000\t10.5046\t3.6582\t414.509\t0.399\t242.8722\t0.40975347\t0.62071025\t0.7537\tTrue\n",
      "4\t3100\t10.4962\t3.6768\t414.4233\t0.2617\t242.678\t0.4099196\t0.6197449\t0.773\tTrue\n",
      "4\t3200\t10.5239\t3.6994\t402.7201\t0.2589\t242.7648\t0.40979677\t0.62734145\t0.6729\tTrue\n",
      "4\t3300\t10.5456\t3.6716\t404.2737\t0.3409\t242.5958\t0.4107184\t0.63179886\t0.806\tTrue\n",
      "4\t3400\t10.516\t3.6872\t393.1217\t0.413\t242.6793\t0.41024697\t0.6279093\t0.8271\tFalse\n",
      "4\t3500\t10.5282\t3.675\t387.9722\t0.3689\t242.8769\t0.41134432\t0.6315936\t0.8058\tFalse\n"
     ]
    }
   ],
   "source": [
    "%%sh\n",
    "cd ENCSR000EGM/bpnet/\n",
    "bpnet fit -p bpnet_fit.json"
   ]
  },
  {
   "cell_type": "markdown",
   "metadata": {
    "id": "EMKvBrS5EkUm"
   },
   "source": [
    "## 1.4 Create bpnet-lite `interpret` JSON file"
   ]
  },
  {
   "cell_type": "code",
   "execution_count": 18,
   "metadata": {
    "id": "t0pNrmR8EtzF"
   },
   "outputs": [],
   "source": [
    "%%sh\n",
    "cat <<EOF > ENCSR000EGM/bpnet/bpnet_interpret.json \n",
    "{\n",
    "   \"batch_size\": 64,\n",
    "   \"in_window\": 2114,\n",
    "   \"out_window\": 1000,\n",
    "   \"verbose\": true,\n",
    "   \"chroms\": [\"chr8\", \"chr10\"],\n",
    "\n",
    "   \"sequences\":\"../data/hg38.fa\",\n",
    "   \"loci\":\"../data/peaks.bed.gz\",\n",
    "   \"model\":\"example.torch\",\n",
    "   \"output\":\"count\",\n",
    "\n",
    "   \"output\": \"profile\",\n",
    "   \"ohe_filename\": \"ohe.npz\",\n",
    "   \"attr_filename\": \"attr.npz\",\n",
    "   \"n_shuffles\":20,\n",
    "   \"random_state\":0\n",
    "}\n",
    "EOF"
   ]
  },
  {
   "cell_type": "markdown",
   "metadata": {
    "id": "9aPehqhOEEoy"
   },
   "source": [
    "## 1.5 Retrieve one-hot encoding & corresponding attribution scores using DeepSHAP\n",
    "The following step provides a one-hot encoding, given as `ohe.npz`, and attribution scores as `attr.npz`."
   ]
  },
  {
   "cell_type": "code",
   "execution_count": 19,
   "metadata": {
    "colab": {
     "background_save": true
    },
    "id": "WIjzUE7XhVqK",
    "outputId": "fb4a382f-710e-4ad1-aaa7-7113832a5ff7"
   },
   "outputs": [
    {
     "name": "stderr",
     "output_type": "stream",
     "text": [
      "Loading Loci: 100%|██████████| 5148/5148 [00:07<00:00, 658.88it/s]\n",
      "100%|██████████| 5148/5148 [04:22<00:00, 19.59it/s]\n"
     ]
    }
   ],
   "source": [
    "%%sh\n",
    "cd ENCSR000EGM/bpnet\n",
    "bpnet interpret -p bpnet_interpret.json"
   ]
  },
  {
   "cell_type": "markdown",
   "metadata": {
    "id": "TMA6eahGx4ze"
   },
   "source": [
    "The shape of these tensors are as follows:"
   ]
  },
  {
   "cell_type": "code",
   "execution_count": 21,
   "metadata": {
    "colab": {
     "background_save": true
    },
    "id": "xJkLntpihWqa"
   },
   "outputs": [
    {
     "name": "stdout",
     "output_type": "stream",
     "text": [
      "The shape of the attribution scores is (5148, 4, 2114)\n",
      "The shape of the one-hot encoding is (5148, 4, 2114)\n"
     ]
    }
   ],
   "source": [
    "import numpy as np\n",
    "\n",
    "# Load the .npz file\n",
    "attr = np.load('ENCSR000EGM/bpnet/attr.npz')\n",
    "ohe = np.load('ENCSR000EGM/bpnet/ohe.npz')\n",
    "\n",
    "for key in attr.files:\n",
    "    print(f\"The shape of the attribution scores is {attr[key].shape}\")\n",
    "\n",
    "for key in ohe.files:\n",
    "    print(f\"The shape of the one-hot encoding is {ohe[key].shape}\")\n",
    "    "
   ]
  },
  {
   "cell_type": "markdown",
   "metadata": {
    "id": "qn0JcgQCzkcV"
   },
   "source": [
    "These will be used as input to tfmodisco-lite"
   ]
  },
  {
   "cell_type": "markdown",
   "metadata": {
    "id": "RhuznaDjz7ek"
   },
   "source": [
    "# 2.x Motif discovery with `tfmodisco-lite`"
   ]
  },
  {
   "cell_type": "markdown",
   "metadata": {
    "id": "2U0aITPG1nQE"
   },
   "source": [
    "## 2.1 Install `tfmodisco-lite`"
   ]
  },
  {
   "cell_type": "code",
   "execution_count": 1,
   "metadata": {
    "colab": {
     "background_save": true
    },
    "id": "eR0TUl_91fGu"
   },
   "outputs": [],
   "source": [
    "%%sh\n",
    "pip install -Uqq modisco-lite"
   ]
  },
  {
   "cell_type": "markdown",
   "metadata": {
    "id": "Ip0i_zOy0D1D"
   },
   "source": [
    "## 2.2 Running `tfmodisco-lite` on DeepSHAP output"
   ]
  },
  {
   "cell_type": "code",
   "execution_count": 23,
   "metadata": {
    "colab": {
     "background_save": true
    },
    "id": "tcfDCyuR0CDq"
   },
   "outputs": [],
   "source": [
    "%%sh\n",
    "mkdir -p ENCSR000EGM/modisco\n",
    "cd ENCSR000EGM/modisco\n",
    "modisco motifs -s ../bpnet/ohe.npz -a ../bpnet/attr.npz -n 2000 -o modisco_results.h5"
   ]
  },
  {
   "cell_type": "markdown",
   "metadata": {
    "id": "dgAkv_WD9Iee"
   },
   "source": [
    "Now we have the results! We can interpret with the `report` subcommand"
   ]
  },
  {
   "cell_type": "markdown",
   "metadata": {
    "id": "Vy3Droc3Aem-"
   },
   "source": [
    "## 3.x Displaying the motifs with `tfmodisco-lite report`"
   ]
  },
  {
   "cell_type": "markdown",
   "metadata": {
    "id": "VutVgPZbDosX"
   },
   "source": [
    "## 3.1 Run `modisco report`"
   ]
  },
  {
   "cell_type": "code",
   "execution_count": 45,
   "metadata": {
    "colab": {
     "background_save": true
    },
    "id": "PTt-qoM_AeEf"
   },
   "outputs": [],
   "source": [
    "%%sh\n",
    "cd ENCSR000EGM/modisco\n",
    "modisco report -i modisco_results.h5 -o report/"
   ]
  },
  {
   "cell_type": "markdown",
   "metadata": {},
   "source": [
    "which looks like:"
   ]
  },
  {
   "cell_type": "code",
   "execution_count": 46,
   "metadata": {},
   "outputs": [
    {
     "data": {
      "text/html": [
       "<table border=\"1\" class=\"dataframe\">\n",
       "  <thead>\n",
       "    <tr style=\"text-align: right;\">\n",
       "      <th>pattern</th>\n",
       "      <th>num_seqlets</th>\n",
       "      <th>modisco_cwm_fwd</th>\n",
       "      <th>modisco_cwm_rev</th>\n",
       "    </tr>\n",
       "  </thead>\n",
       "  <tbody>\n",
       "    <tr>\n",
       "      <td>pos_patterns.pattern_0</td>\n",
       "      <td>982</td>\n",
       "      <td><img src=\"./trimmed_logos/pos_patterns.pattern_0.cwm.fwd.png\" width=\"240\" ></td>\n",
       "      <td><img src=\"./trimmed_logos/pos_patterns.pattern_0.cwm.rev.png\" width=\"240\" ></td>\n",
       "    </tr>\n",
       "    <tr>\n",
       "      <td>neg_patterns.pattern_0</td>\n",
       "      <td>82</td>\n",
       "      <td><img src=\"./trimmed_logos/neg_patterns.pattern_0.cwm.fwd.png\" width=\"240\" ></td>\n",
       "      <td><img src=\"./trimmed_logos/neg_patterns.pattern_0.cwm.rev.png\" width=\"240\" ></td>\n",
       "    </tr>\n",
       "    <tr>\n",
       "      <td>neg_patterns.pattern_1</td>\n",
       "      <td>80</td>\n",
       "      <td><img src=\"./trimmed_logos/neg_patterns.pattern_1.cwm.fwd.png\" width=\"240\" ></td>\n",
       "      <td><img src=\"./trimmed_logos/neg_patterns.pattern_1.cwm.rev.png\" width=\"240\" ></td>\n",
       "    </tr>\n",
       "  </tbody>\n",
       "</table>"
      ],
      "text/plain": [
       "<IPython.core.display.HTML object>"
      ]
     },
     "execution_count": 46,
     "metadata": {},
     "output_type": "execute_result"
    }
   ],
   "source": [
    "from IPython.display import HTML\n",
    "HTML('ENCSR000EGM/modisco/report/motifs.html')"
   ]
  },
  {
   "cell_type": "markdown",
   "metadata": {
    "id": "8jyBbUs_CsTg"
   },
   "source": [
    "You can also compare the motifs with a database using [TOMTOM](https://meme-suite.org/meme/tools/tomtom)..."
   ]
  },
  {
   "cell_type": "markdown",
   "metadata": {
    "id": "hzkLnKIxDzz0"
   },
   "source": [
    "## 3.2 Run `modisco report` with TOMTOM comparison"
   ]
  },
  {
   "cell_type": "markdown",
   "metadata": {
    "id": "Y-2N2MR-D8x0"
   },
   "source": [
    "First let's download the database file to compare our results against."
   ]
  },
  {
   "cell_type": "code",
   "execution_count": 28,
   "metadata": {
    "colab": {
     "background_save": true
    },
    "id": "VGyKkDr7Dwos"
   },
   "outputs": [],
   "source": [
    "%%sh\n",
    "wget --quiet \\\n",
    "https://jaspar.genereg.net/download/data/2022/CORE/JASPAR2022_CORE_vertebrates_non-redundant_pfms_meme.txt \\\n",
    "-O ENCSR000EGM/data/JASPAR2022_CORE_vertebrates_non-redundant_pfms_meme.txt"
   ]
  },
  {
   "cell_type": "markdown",
   "metadata": {
    "id": "XOwKfkX9GoA9"
   },
   "source": [
    "We'll also need the `tomtom` executable in our $PATH in order to run `modisco report` with TOMTOM comparison. For the purposes of this notebook, we'll be installing it through `conda`'s `meme` package."
   ]
  },
  {
   "cell_type": "code",
   "execution_count": 34,
   "metadata": {
    "colab": {
     "background_save": true
    },
    "id": "z11hgaJ-yFX-"
   },
   "outputs": [
    {
     "name": "stdout",
     "output_type": "stream",
     "text": [
      "Collecting package metadata (current_repodata.json): ...working... done\n",
      "Solving environment: ...working... done\n",
      "\n",
      "## Package Plan ##\n",
      "\n",
      "  environment location: /users/airanman/anaconda3/envs/bpnet-refactored.3.9\n",
      "\n",
      "  added / updated specs:\n",
      "    - meme\n",
      "\n",
      "\n",
      "The following packages will be downloaded:\n",
      "\n",
      "    package                    |            build\n",
      "    ---------------------------|-----------------\n",
      "    openssl-3.1.1              |       hd590300_1         2.5 MB  conda-forge\n",
      "    ------------------------------------------------------------\n",
      "                                           Total:         2.5 MB\n",
      "\n",
      "The following packages will be UPDATED:\n",
      "\n",
      "  openssl                                  3.1.1-hd590300_0 --> 3.1.1-hd590300_1 \n",
      "\n",
      "\n",
      "Proceed ([y]/n)? \n",
      "Preparing transaction: ...working... done\n",
      "Verifying transaction: ...working... done\n",
      "Executing transaction: ...working... done\n"
     ]
    }
   ],
   "source": [
    "%%bash\n",
    "conda install --quiet -c bioconda meme"
   ]
  },
  {
   "cell_type": "markdown",
   "metadata": {
    "id": "-w__O6IsECZM"
   },
   "source": [
    "Now we can run it in `modisco report`"
   ]
  },
  {
   "cell_type": "code",
   "execution_count": 43,
   "metadata": {
    "colab": {
     "background_save": true
    },
    "id": "AYtFX9SAEGED"
   },
   "outputs": [],
   "source": [
    "%%sh\n",
    "cd ENCSR000EGM/modisco\n",
    "modisco report -i modisco_results.h5 -o report/ -s ENCSR000EGM/modisco/report/ -m ../data/JASPAR2022_CORE_vertebrates_non-redundant_pfms_meme.txt"
   ]
  },
  {
   "cell_type": "code",
   "execution_count": 44,
   "metadata": {},
   "outputs": [
    {
     "data": {
      "text/html": [
       "<table border=\"1\" class=\"dataframe\">\n",
       "  <thead>\n",
       "    <tr style=\"text-align: right;\">\n",
       "      <th>pattern</th>\n",
       "      <th>num_seqlets</th>\n",
       "      <th>modisco_cwm_fwd</th>\n",
       "      <th>modisco_cwm_rev</th>\n",
       "      <th>match0</th>\n",
       "      <th>qval0</th>\n",
       "      <th>match0_logo</th>\n",
       "      <th>match1</th>\n",
       "      <th>qval1</th>\n",
       "      <th>match1_logo</th>\n",
       "      <th>match2</th>\n",
       "      <th>qval2</th>\n",
       "      <th>match2_logo</th>\n",
       "    </tr>\n",
       "  </thead>\n",
       "  <tbody>\n",
       "    <tr>\n",
       "      <td>pos_patterns.pattern_0</td>\n",
       "      <td>982</td>\n",
       "      <td><img src=\"ENCSR000EGM/modisco/report/trimmed_logos/pos_patterns.pattern_0.cwm.fwd.png\" width=\"240\" ></td>\n",
       "      <td><img src=\"ENCSR000EGM/modisco/report/trimmed_logos/pos_patterns.pattern_0.cwm.rev.png\" width=\"240\" ></td>\n",
       "      <td>MA0139.1</td>\n",
       "      <td>1.334550e-14</td>\n",
       "      <td><img src=\"ENCSR000EGM/modisco/report/MA0139.1.png\" width=\"240\" ></td>\n",
       "      <td>MA1929.1</td>\n",
       "      <td>1.526150e-13</td>\n",
       "      <td><img src=\"ENCSR000EGM/modisco/report/MA1929.1.png\" width=\"240\" ></td>\n",
       "      <td>MA1930.1</td>\n",
       "      <td>6.470340e-11</td>\n",
       "      <td><img src=\"ENCSR000EGM/modisco/report/MA1930.1.png\" width=\"240\" ></td>\n",
       "    </tr>\n",
       "    <tr>\n",
       "      <td>neg_patterns.pattern_0</td>\n",
       "      <td>82</td>\n",
       "      <td><img src=\"ENCSR000EGM/modisco/report/trimmed_logos/neg_patterns.pattern_0.cwm.fwd.png\" width=\"240\" ></td>\n",
       "      <td><img src=\"ENCSR000EGM/modisco/report/trimmed_logos/neg_patterns.pattern_0.cwm.rev.png\" width=\"240\" ></td>\n",
       "      <td>MA1930.1</td>\n",
       "      <td>2.128410e-08</td>\n",
       "      <td><img src=\"ENCSR000EGM/modisco/report/MA1930.1.png\" width=\"240\" ></td>\n",
       "      <td>MA1929.1</td>\n",
       "      <td>3.114190e-08</td>\n",
       "      <td><img src=\"ENCSR000EGM/modisco/report/MA1929.1.png\" width=\"240\" ></td>\n",
       "      <td>MA0139.1</td>\n",
       "      <td>3.114190e-08</td>\n",
       "      <td><img src=\"ENCSR000EGM/modisco/report/MA0139.1.png\" width=\"240\" ></td>\n",
       "    </tr>\n",
       "    <tr>\n",
       "      <td>neg_patterns.pattern_1</td>\n",
       "      <td>80</td>\n",
       "      <td><img src=\"ENCSR000EGM/modisco/report/trimmed_logos/neg_patterns.pattern_1.cwm.fwd.png\" width=\"240\" ></td>\n",
       "      <td><img src=\"ENCSR000EGM/modisco/report/trimmed_logos/neg_patterns.pattern_1.cwm.rev.png\" width=\"240\" ></td>\n",
       "      <td>MA1102.2</td>\n",
       "      <td>2.352510e-06</td>\n",
       "      <td><img src=\"ENCSR000EGM/modisco/report/MA1102.2.png\" width=\"240\" ></td>\n",
       "      <td>MA0139.1</td>\n",
       "      <td>5.528140e-06</td>\n",
       "      <td><img src=\"ENCSR000EGM/modisco/report/MA0139.1.png\" width=\"240\" ></td>\n",
       "      <td>MA1929.1</td>\n",
       "      <td>2.257440e-05</td>\n",
       "      <td><img src=\"ENCSR000EGM/modisco/report/MA1929.1.png\" width=\"240\" ></td>\n",
       "    </tr>\n",
       "  </tbody>\n",
       "</table>"
      ],
      "text/plain": [
       "<IPython.core.display.HTML object>"
      ]
     },
     "execution_count": 44,
     "metadata": {},
     "output_type": "execute_result"
    }
   ],
   "source": [
    "from IPython.display import HTML\n",
    "HTML('ENCSR000EGM/modisco/report/motifs.html')"
   ]
  },
  {
   "cell_type": "markdown",
   "metadata": {
    "id": "mNW96c8D9UgA"
   },
   "source": [
    "# 3.x `tfmodisco-lite` extras"
   ]
  },
  {
   "cell_type": "markdown",
   "metadata": {},
   "source": [
    "## 3.1 Using `modisco meme` to generate MEME files"
   ]
  },
  {
   "cell_type": "markdown",
   "metadata": {},
   "source": [
    "Using the `meme` subcommand, we can output various scores from the motifs into a MEME file."
   ]
  },
  {
   "cell_type": "code",
   "execution_count": 3,
   "metadata": {},
   "outputs": [
    {
     "name": "stdout",
     "output_type": "stream",
     "text": [
      "usage: modisco meme [-h] -i H5PY -t {PFM,CWM,hCWM,CWM-PFM,hCWM-PFM}\r\n",
      "                    [-o OUTPUT]\r\n",
      "\r\n",
      "optional arguments:\r\n",
      "  -h, --help            show this help message and exit\r\n",
      "  -i H5PY, --h5py H5PY  An HDF5 file containing the output from modiscolite.\r\n",
      "  -t {PFM,CWM,hCWM,CWM-PFM,hCWM-PFM}, --datatype {PFM,CWM,hCWM,CWM-PFM,hCWM-PFM}\r\n",
      "                        A case-sensitive string specifying the desired data of the output file.,\r\n",
      "                        The options are as follows:\r\n",
      "                        - 'PFM':      The position-frequency matrix.\r\n",
      "                        - 'CWM':      The contribution-weight matrix.\r\n",
      "                        - 'hCWM':     The hypothetical contribution-weight matrix; hypothetical\r\n",
      "                                      contribution scores are the contributions of nucleotides not encoded\r\n",
      "                                      by the one-hot encoding sequence. \r\n",
      "                        - 'CWM-PFM':  The softmax of the contribution-weight matrix.\r\n",
      "                        - 'hCWM-PFM': The softmax of the hypothetical contribution-weight matrix.\r\n",
      "  -o OUTPUT, --output OUTPUT\r\n",
      "                        The path to the output file.\r\n"
     ]
    }
   ],
   "source": [
    "!modisco meme -h"
   ]
  },
  {
   "cell_type": "markdown",
   "metadata": {},
   "source": [
    "Here we'll use it to create a MEME file with the hCWM-PFM scores:"
   ]
  },
  {
   "cell_type": "code",
   "execution_count": 14,
   "metadata": {},
   "outputs": [],
   "source": [
    "%%sh\n",
    "cd ENCSR000EGM/modisco\n",
    "modisco meme -i modisco_results.h5 -t hCWM-PFM -o modisco_results.hCWM-PFM.meme"
   ]
  },
  {
   "cell_type": "markdown",
   "metadata": {},
   "source": [
    "Which looks like the following"
   ]
  },
  {
   "cell_type": "code",
   "execution_count": 31,
   "metadata": {},
   "outputs": [
    {
     "name": "stdout",
     "output_type": "stream",
     "text": [
      "MEME version 5\n",
      "\n",
      "ALPHABET= ACGT\n",
      "\n",
      "Background letter frequencies\n",
      "A 0.25 C 0.25 G 0.25 T 0.25\n",
      "\n",
      "MOTIF pattern_0\n",
      "letter-probability matrix: alength= 4 w= 30 nsites= 1\n",
      "0.248826 0.251804 0.250520 0.248850\n",
      "0.248163 0.251302 0.250202 0.250334\n",
      "0.247805 0.251909 0.251251 0.249035\n",
      "0.244951 0.255496 0.248984 0.250569\n",
      "0.245002 0.253824 0.254852 0.246321\n",
      "0.249467 0.246864 0.258725 0.244944\n",
      "0.246277 0.265931 0.247717 0.240074\n",
      "0.241209 0.277550 0.246266 0.234976\n",
      "0.250526 0.246673 0.260665 0.242136\n",
      "0.240527 0.265773 0.257526 0.236174\n",
      "0.241154 0.259174 0.247957 0.251715\n",
      "0.256594 0.250926 0.251941 0.240539\n",
      "0.236031 0.249419 0.275758 0.238793\n",
      "0.253191 0.242835 0.270393 0.233581\n",
      "0.236852 0.251471 0.262782 0.248895\n",
      "0.238141 0.245176 0.277373 0.239310\n",
      "0.237160 0.246426 0.269815 0.246599\n",
      "0.243103 0.271323 0.245214 0.240360\n",
      "0.248603 0.244783 0.271999 0.234615\n",
      "0.241764 0.259794 0.256034 0.242408\n",
      "0.243188 0.256461 0.249168 0.251183\n",
      "0.252519 0.253488 0.254545 0.239449\n",
      "0.243827 0.251015 0.253445 0.251713\n",
      "0.249577 0.250676 0.250699 0.249048\n",
      "0.246955 0.250588 0.256213 0.246244\n",
      "0.249239 0.252671 0.251464 0.246626\n",
      "0.249274 0.252470 0.251537 0.246719\n",
      "0.249185 0.254669 0.247269 0.248877\n",
      "0.250277 0.253000 0.247870 0.248853\n",
      "0.250927 0.250378 0.250019 0.248675\n"
     ]
    }
   ],
   "source": [
    "%%sh\n",
    "cd ENCSR000EGM/modisco\n",
    "head --lines=39 modisco_results.hCWM-PFM.meme"
   ]
  }
 ],
 "metadata": {
  "accelerator": "GPU",
  "celltoolbar": "Attachments",
  "colab": {
   "gpuType": "T4",
   "provenance": []
  },
  "kernelspec": {
   "display_name": "Python 3 (ipykernel)",
   "language": "python",
   "name": "python3"
  },
  "language_info": {
   "codemirror_mode": {
    "name": "ipython",
    "version": 3
   },
   "file_extension": ".py",
   "mimetype": "text/x-python",
   "name": "python",
   "nbconvert_exporter": "python",
   "pygments_lexer": "ipython3",
   "version": "3.9.16"
  }
 },
 "nbformat": 4,
 "nbformat_minor": 1
}
